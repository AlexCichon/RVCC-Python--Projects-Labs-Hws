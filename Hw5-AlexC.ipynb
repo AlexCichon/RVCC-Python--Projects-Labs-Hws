{
 "cells": [
  {
   "cell_type": "markdown",
   "id": "e4b72809-e94d-424a-919e-be2fcfed90a6",
   "metadata": {},
   "source": [
    "HW 5 Problem #1"
   ]
  },
  {
   "cell_type": "code",
   "execution_count": null,
   "id": "d09d7dd6-31d0-45c7-8fe6-0608e0abb249",
   "metadata": {},
   "outputs": [
    {
     "name": "stdout",
     "output_type": "stream",
     "text": [
      "Please select a option:\n",
      "1. Rock-Paper-Scissors\n",
      "2. Dating Equation\n",
      "3. Turtle Artwork\n",
      "Exit? y or n\n"
     ]
    },
    {
     "name": "stdin",
     "output_type": "stream",
     "text": [
      "Enter choice between (1-3) or y/n:  1\n"
     ]
    },
    {
     "name": "stdout",
     "output_type": "stream",
     "text": [
      "Welcome to my game!\n"
     ]
    },
    {
     "name": "stdin",
     "output_type": "stream",
     "text": [
      "Do you want to be 'rock', 'paper', or 'scissors'?  p\n"
     ]
    },
    {
     "name": "stdout",
     "output_type": "stream",
     "text": [
      "You are  p\n",
      "The computer has rock\n",
      "You Win\n",
      "Please select a option:\n",
      "1. Rock-Paper-Scissors\n",
      "2. Dating Equation\n",
      "3. Turtle Artwork\n",
      "Exit? y or n\n"
     ]
    }
   ],
   "source": [
    "#Author: Alexei Cichon\n",
    "\n",
    "import random\n",
    "import turtle\n",
    "#Function for rock/paper/scissors game for main function\n",
    "# Rock, Paper, Scissors using random function, if statements and logical and with nested if statments\n",
    "def rock_paper_scissors():\n",
    "\n",
    "    print(\"Welcome to my game!\")\n",
    "\n",
    "    player = input(\"Do you want to be 'rock', 'paper', or 'scissors'? \")\n",
    "    print(\"You are \", player)\n",
    "\n",
    "    computer = random.choice(['rock', 'paper', 'scissors'])\n",
    "    print(\"The computer has\", computer)\n",
    "\n",
    "    if player == computer:\n",
    "        print(\"It's a TIE!\")\n",
    "    elif computer == 'rock':\n",
    "        if player == 'scissors':\n",
    "            print(\"You Lose\")\n",
    "        else:\n",
    "            print(\"You Win\")\n",
    "    elif computer == 'paper':\n",
    "        if player == 'rock':\n",
    "            print(\"You Lose\")\n",
    "        else:\n",
    "            print(\"You Win\")\n",
    "    elif computer == 'scissors':\n",
    "        if player == 'paper':\n",
    "            print(\"You Lose\")\n",
    "        else:\n",
    "            print(\"You Win\")\n",
    "\n",
    "#Function for dating equation for main function\n",
    "# dating program\n",
    "def dating_equation():\n",
    "    \n",
    "        your_age = int(input(\"Enter your age: \"))\n",
    "        love_interest_age = int(input(\"Enter LI age: \"))\n",
    "\n",
    "        if love_interest_age < your_age / 2 + 7:\n",
    "             print(\"You are creepy... find someone your own age!\")\n",
    "        else:\n",
    "             print(\"You are good to go!\")\n",
    "#Function for turtle art use for main function\n",
    "#Purpose: Use turtle library to draw a triangle\n",
    "def turtle_art():\n",
    "    t = turtle.Turtle()\n",
    "    for i in range(3):\n",
    "        t.left(120)\n",
    "        t.foward(100)\n",
    "        t.foward(100)\n",
    "    turtle.done()\n",
    "\n",
    "def main():\n",
    "#while loop use for user input for functions to operate\n",
    "    while True:\n",
    "        print(\"Please select a option:\")\n",
    "        print(\"1. Rock-Paper-Scissors\")\n",
    "        print(\"2. Dating Equation\")\n",
    "        print(\"3. Turtle Artwork\")\n",
    "        print(\"Exit? y or n\")\n",
    "\n",
    "        choice = input(\"Enter choice between (1-3) or y/n: \")\n",
    "        if choice == \"1\":\n",
    "            rock_paper_scissors()\n",
    "        elif choice == \"2\":\n",
    "            dating_equation()\n",
    "        elif choice == \"3\":\n",
    "            turtle_art()\n",
    "        elif choice == \"n\":\n",
    "            break\n",
    "        else:\n",
    "            print(\"Please select a valid choice.\")\n",
    "\n",
    "if __name__ == \"__main__\":\n",
    "    main()"
   ]
  },
  {
   "cell_type": "markdown",
   "id": "a2c1b7ba-8b9b-45ff-9cd5-68d162e8c8c3",
   "metadata": {},
   "source": [
    "HW 5 Problem #2"
   ]
  },
  {
   "cell_type": "code",
   "execution_count": 3,
   "id": "a63d1df7-ece8-43e2-87a0-f5bc487f4a9a",
   "metadata": {},
   "outputs": [
    {
     "name": "stdin",
     "output_type": "stream",
     "text": [
      "Enter '1' to calculate cube, '2' to find number close to 23, '3' to roll random dice or 'n' to quit:  n\n"
     ]
    }
   ],
   "source": [
    "#Author: Alexei Cichon\n",
    "\n",
    "import random\n",
    "#cube function will multiply the cube and return the results\n",
    "def cube(x):\n",
    "    #Returns the cube as a number.\n",
    "    return x * x * x\n",
    "#closer to 23 function, will calculate what number is closer to 23 and than return it to user\n",
    "def close_to_23(x, y):\n",
    "    if abs(x - 23) < abs(y - 23):\n",
    "        return x\n",
    "    else:\n",
    "        return y\n",
    "#Function for random dice roll/adding two sums and returning them\n",
    "#return method will return the sum of the two dices\n",
    "def sum_dice_roll():\n",
    "    die1 = random.randint(1,  6)\n",
    "    die2 = random.randint(1, 6)\n",
    "    return die1 + die2\n",
    "\n",
    "def main():\n",
    "#While looped use to get user input for functions that main will be using \n",
    "    while True:\n",
    "        choice = input(\"Enter '1' to calculate cube, '2' to find number close to 23, '3' to roll random dice or 'n' to quit: \")\n",
    "\n",
    "        if choice == '1':\n",
    "            num = int(input(\"Enter a number to be calculated: \"))\n",
    "            result = cube(num)\n",
    "            print(\"The cube of\", num, \"is \", result)\n",
    "        elif choice == '2':\n",
    "            num1 = int(input(\"Enter first number: \"))\n",
    "            num2 = int(input(\"Enter second number: \"))\n",
    "            closer_num = close_to_23(num1, num2)\n",
    "            print(\"The number closer to 23 is\", closer_num)\n",
    "        elif choice == '3':\n",
    "            dice_sum = sum_dice_roll()\n",
    "            print(\"Sum of dice roll: \", dice_sum)\n",
    "        elif choice == 'n':\n",
    "            break\n",
    "        else:\n",
    "            print(\"Invalid choice, please respond to one of the followings.\")\n",
    "\n",
    "if __name__ == \"__main__\":\n",
    "    main()\n",
    "            "
   ]
  },
  {
   "cell_type": "code",
   "execution_count": null,
   "id": "6943d7e9-5e7f-472a-836f-9fa0578ccce0",
   "metadata": {},
   "outputs": [],
   "source": []
  }
 ],
 "metadata": {
  "kernelspec": {
   "display_name": "Python 3 (ipykernel)",
   "language": "python",
   "name": "python3"
  },
  "language_info": {
   "codemirror_mode": {
    "name": "ipython",
    "version": 3
   },
   "file_extension": ".py",
   "mimetype": "text/x-python",
   "name": "python",
   "nbconvert_exporter": "python",
   "pygments_lexer": "ipython3",
   "version": "3.12.4"
  }
 },
 "nbformat": 4,
 "nbformat_minor": 5
}
