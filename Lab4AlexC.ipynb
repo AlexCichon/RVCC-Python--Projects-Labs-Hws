{
 "cells": [
  {
   "cell_type": "markdown",
   "id": "bda92d2f-720d-4290-aeee-9cbe141abe27",
   "metadata": {},
   "source": [
    "Lab04 Problem #1:"
   ]
  },
  {
   "cell_type": "code",
   "execution_count": 27,
   "id": "a7d6f459-a6b9-4f2b-b7ee-9683806e55e0",
   "metadata": {},
   "outputs": [
    {
     "name": "stdout",
     "output_type": "stream",
     "text": [
      "Possible Date #1:\n"
     ]
    },
    {
     "name": "stdin",
     "output_type": "stream",
     "text": [
      "Enter your age: 80\n",
      "Enter your love interest age: 30\n"
     ]
    },
    {
     "name": "stdout",
     "output_type": "stream",
     "text": [
      "\n",
      "Are you kidding - you are too creepy! Find someone your own age!!!!\n",
      "\n",
      "Possible Date #2:\n"
     ]
    },
    {
     "name": "stdin",
     "output_type": "stream",
     "text": [
      "Enter your age: 43\n",
      "Enter your love interest age: 30\n"
     ]
    },
    {
     "name": "stdout",
     "output_type": "stream",
     "text": [
      "\n",
      "The creepiness factor is gone! Good luck with your date!\n",
      "\n",
      "Possible Date #3:\n"
     ]
    },
    {
     "name": "stdin",
     "output_type": "stream",
     "text": [
      "Enter your age: 20\n",
      "Enter your love interest age: 23\n"
     ]
    },
    {
     "name": "stdout",
     "output_type": "stream",
     "text": [
      "\n",
      "The creepiness factor is gone! Good luck with your date!\n",
      "\n"
     ]
    }
   ],
   "source": [
    "#Author: Alexei Cichon\n",
    "#Purpose: The purpose of this program was to extend the original dating program\n",
    "#by adding in a loop factor that would run the program 3 times by using a for loop\n",
    "\n",
    "#for loop that runs the program in the num in range (1,4) so 3 times the loop will run\n",
    "for num in range(1,4) :\n",
    "    print (\"Possible Date #\"+ str(num)+':')\n",
    "    your_age = int(input(\"Enter your age:\"))\n",
    "    love_interest_age = int(input(\"Enter your love interest age:\"))\n",
    "\n",
    "    if love_interest_age < your_age / 2 + 7 :\n",
    "        print(\"\\nAre you kidding - you are too creepy! Find someone your own age!!!!\\n\")\n",
    "    else :\n",
    "        print(\"\\nThe creepiness factor is gone! Good luck with your date!\\n\")"
   ]
  },
  {
   "cell_type": "markdown",
   "id": "aa29300e-969d-4f28-9b20-fb21af35c89b",
   "metadata": {},
   "source": [
    "Lab4 Problem #2:"
   ]
  },
  {
   "cell_type": "code",
   "execution_count": 33,
   "id": "7fdfd1da-4aa3-4561-8456-7b14e5fc46ff",
   "metadata": {},
   "outputs": [
    {
     "name": "stdout",
     "output_type": "stream",
     "text": [
      "The sum of all integers between 0 and 100: 5050\n",
      "\n",
      "The sum of all even integers between 0 and 100: 2550\n",
      "\n",
      "The sum of all odd integers between 0 and 100: 2500\n"
     ]
    }
   ],
   "source": [
    "#Author: Alexei Cichon\n",
    "#Purpose: this program will calculate/find whole values of all integers of numbers\n",
    "#ranging from 0-100, and will also find/print the values of those even/odd numbers \n",
    "#from the range \n",
    "\n",
    "#Initializing variables to 0 so they can store the sum of even/odd/all numbers \n",
    "sum_even = 0\n",
    "sum_odd = 0\n",
    "sum_all = 0\n",
    "#Will generate all numbers (0-100) and add all of them and will do same for even/odd numbers\n",
    "for num in range(101) :\n",
    "    sum_all += num\n",
    "for num in range(0,101,2) :\n",
    "    sum_even += num\n",
    "for num in range(1,100,2) :\n",
    "    sum_odd += num\n",
    "#print statements for sum of all integers 0-100 also odd/even values as well\n",
    "print(\"The sum of all integers between 0 and 100: \" + str(sum_all))\n",
    "print(\"\\nThe sum of all even integers between 0 and 100: \" + str(sum_even))\n",
    "print(\"\\nThe sum of all odd integers between 0 and 100: \" + str(sum_odd))"
   ]
  },
  {
   "cell_type": "markdown",
   "id": "7409e5cf-2405-4cc5-bbdd-acbdc9f08cd1",
   "metadata": {},
   "source": [
    "Lab04 Problem #3:\n",
    "ChatGPT Version of Problem #2\n",
    "\n",
    "The differences between the two different program solutions is by how ChatGPT\n",
    "goes about with initializing the variables at the start and does them differently \n",
    "and for the calculations seems to use a different method"
   ]
  },
  {
   "cell_type": "code",
   "execution_count": 1,
   "id": "633f4b8f-18b5-4875-b56a-8ac9b360a46c",
   "metadata": {},
   "outputs": [
    {
     "name": "stdout",
     "output_type": "stream",
     "text": [
      "The sum of all integers between 0 and 100: 5050\n",
      "\n",
      "The sum of all even integers between 0 and 100: 2550\n",
      "\n",
      "The sum of all odd integers between 0 and 100: 2500\n"
     ]
    }
   ],
   "source": [
    "#Author: Alexei Cichon\n",
    "#Purpose: Check Problem #2 by using ChatGPT program\n",
    "\n",
    "# Calculate the sum of all integers between 0 and 100 (inclusive)\n",
    "sum_all = sum(range(101))\n",
    "\n",
    "# Calculate the sum of all even integers between 0 and 100 (inclusive)\n",
    "sum_even = sum(num for num in range(101) if num % 2 == 0)\n",
    "\n",
    "# Calculate the sum of all odd integers between 0 and 100 (inclusive)\n",
    "sum_odd = sum(num for num in range(101) if num % 2 != 0)\n",
    "\n",
    "# Display the results with spacing as required\n",
    "print(f\"The sum of all integers between 0 and 100: {sum_all}\\n\")\n",
    "print(f\"The sum of all even integers between 0 and 100: {sum_even}\\n\")\n",
    "print(f\"The sum of all odd integers between 0 and 100: {sum_odd}\")\n"
   ]
  },
  {
   "cell_type": "markdown",
   "id": "5c1ddf2f-73ff-4aac-9f1c-0a72c81d5a58",
   "metadata": {},
   "source": [
    "Lab04 problem #4:"
   ]
  },
  {
   "cell_type": "code",
   "execution_count": 72,
   "id": "20e50e6d-0f61-47a3-9b33-680298b4cecc",
   "metadata": {},
   "outputs": [
    {
     "name": "stdout",
     "output_type": "stream",
     "text": [
      "The coin landed on heads.\n",
      "You WIN!\n",
      "The coin landed on tails.\n",
      "You LOSE!\n",
      "The coin landed on heads.\n",
      "You WIN!\n",
      "The coin landed on tails.\n",
      "You LOSE!\n",
      "The coin landed on tails.\n",
      "You LOSE!\n",
      "The coin landed on tails.\n",
      "You LOSE!\n",
      "The coin landed on tails.\n",
      "You LOSE!\n",
      "The coin landed on tails.\n",
      "You LOSE!\n",
      "The coin landed on heads.\n",
      "You WIN!\n",
      "The coin landed on heads.\n",
      "You WIN!\n",
      "The coin landed on heads.\n",
      "You WIN!\n",
      "The coin landed on heads.\n",
      "You WIN!\n",
      "The coin landed on tails.\n",
      "You LOSE!\n",
      "The coin landed on tails.\n",
      "You LOSE!\n",
      "The coin landed on heads.\n",
      "You WIN!\n",
      "The coin landed on heads.\n",
      "You WIN!\n",
      "The coin landed on heads.\n",
      "You WIN!\n",
      "The coin landed on heads.\n",
      "You WIN!\n",
      "The coin landed on heads.\n",
      "You WIN!\n",
      "The coin landed on tails.\n",
      "You LOSE!\n",
      "The coin landed on tails.\n",
      "You LOSE!\n",
      "The coin landed on tails.\n",
      "You LOSE!\n",
      "The coin landed on tails.\n",
      "You LOSE!\n",
      "The coin landed on tails.\n",
      "You LOSE!\n",
      "The coin landed on heads.\n",
      "You WIN!\n",
      "The coin landed on heads.\n",
      "You WIN!\n",
      "The coin landed on heads.\n",
      "You WIN!\n",
      "The coin landed on tails.\n",
      "You LOSE!\n",
      "The coin landed on tails.\n",
      "You LOSE!\n",
      "The coin landed on tails.\n",
      "You LOSE!\n",
      "The coin landed on tails.\n",
      "You LOSE!\n",
      "The coin landed on tails.\n",
      "You LOSE!\n",
      "The coin landed on tails.\n",
      "You LOSE!\n",
      "The coin landed on tails.\n",
      "You LOSE!\n",
      "The coin landed on tails.\n",
      "You LOSE!\n",
      "The coin landed on tails.\n",
      "You LOSE!\n",
      "The coin landed on heads.\n",
      "You WIN!\n",
      "The coin landed on heads.\n",
      "You WIN!\n",
      "The coin landed on heads.\n",
      "You WIN!\n",
      "The coin landed on tails.\n",
      "You LOSE!\n",
      "The coin landed on tails.\n",
      "You LOSE!\n",
      "The coin landed on tails.\n",
      "You LOSE!\n",
      "The coin landed on tails.\n",
      "You LOSE!\n",
      "The coin landed on heads.\n",
      "You WIN!\n",
      "The coin landed on heads.\n",
      "You WIN!\n",
      "The coin landed on heads.\n",
      "You WIN!\n",
      "The coin landed on tails.\n",
      "You LOSE!\n",
      "The coin landed on heads.\n",
      "You WIN!\n",
      "The coin landed on heads.\n",
      "You WIN!\n",
      "The coin landed on tails.\n",
      "You LOSE!\n",
      "The coin landed on heads.\n",
      "You WIN!\n",
      "The coin landed on tails.\n",
      "You LOSE!\n",
      "The coin landed on tails.\n",
      "You LOSE!\n",
      "The coin landed on heads.\n",
      "You WIN!\n",
      "The coin landed on heads.\n",
      "You WIN!\n",
      "The coin landed on tails.\n",
      "You LOSE!\n",
      "The coin landed on heads.\n",
      "You WIN!\n",
      "The coin landed on heads.\n",
      "You WIN!\n",
      "The coin landed on tails.\n",
      "You LOSE!\n",
      "The coin landed on heads.\n",
      "You WIN!\n",
      "The coin landed on heads.\n",
      "You WIN!\n",
      "The coin landed on heads.\n",
      "You WIN!\n",
      "The coin landed on tails.\n",
      "You LOSE!\n",
      "The coin landed on tails.\n",
      "You LOSE!\n",
      "The coin landed on tails.\n",
      "You LOSE!\n",
      "The coin landed on tails.\n",
      "You LOSE!\n",
      "The coin landed on heads.\n",
      "You WIN!\n",
      "The coin landed on heads.\n",
      "You WIN!\n",
      "The coin landed on tails.\n",
      "You LOSE!\n",
      "The coin landed on tails.\n",
      "You LOSE!\n",
      "The coin landed on tails.\n",
      "You LOSE!\n",
      "The coin landed on heads.\n",
      "You WIN!\n",
      "The coin landed on heads.\n",
      "You WIN!\n",
      "The coin landed on heads.\n",
      "You WIN!\n",
      "The coin landed on tails.\n",
      "You LOSE!\n",
      "The coin landed on tails.\n",
      "You LOSE!\n",
      "The coin landed on heads.\n",
      "You WIN!\n",
      "The coin landed on heads.\n",
      "You WIN!\n",
      "The coin landed on tails.\n",
      "You LOSE!\n",
      "The coin landed on tails.\n",
      "You LOSE!\n",
      "The coin landed on tails.\n",
      "You LOSE!\n",
      "The coin landed on tails.\n",
      "You LOSE!\n",
      "The coin landed on heads.\n",
      "You WIN!\n",
      "The coin landed on heads.\n",
      "You WIN!\n",
      "The coin landed on tails.\n",
      "You LOSE!\n",
      "The coin landed on heads.\n",
      "You WIN!\n",
      "The coin landed on heads.\n",
      "You WIN!\n",
      "The coin landed on heads.\n",
      "You WIN!\n",
      "The coin landed on tails.\n",
      "You LOSE!\n",
      "The coin landed on heads.\n",
      "You WIN!\n",
      "The coin landed on tails.\n",
      "You LOSE!\n",
      "The coin landed on heads.\n",
      "You WIN!\n",
      "The coin landed on heads.\n",
      "You WIN!\n",
      "The coin landed on heads.\n",
      "You WIN!\n",
      "The coin landed on tails.\n",
      "You LOSE!\n",
      "The coin landed on heads.\n",
      "You WIN!\n",
      "The coin landed on heads.\n",
      "You WIN!\n",
      "The coin landed on heads.\n",
      "You WIN!\n",
      "The coin landed on tails.\n",
      "You LOSE!\n",
      "The coin landed on tails.\n",
      "You LOSE!\n",
      "Number of Heads: 49\n",
      "Number of Tails: 51\n",
      "You now have $480.00 in your wallet.\n"
     ]
    }
   ],
   "source": [
    "#Author: Alexei Cichon\n",
    "#Purpose: This program will have the user start with 500 dollars\n",
    "#than it will flip a coin random over 100 times and depending on the side of the coin\n",
    "#the user will either add 10 more dollars or lose 10 dollars. After the 100th coin flip \n",
    "#will display the results of the amount of sides the coin flip/The users final wallet amount\n",
    "\n",
    "#random import for coin flip\n",
    "import random\n",
    "\n",
    "#Initialzing head/tail/wallet amounts to begin at designated values\n",
    "#depending on coin flip will add to counts and perform wallet operation \n",
    "heads_count = 0\n",
    "tails_count = 0\n",
    "wallet = 500.00\n",
    "for toss in range(100):\n",
    "    outcome = random.choice(['The coin landed on heads.', 'The coin landed on tails.'])\n",
    "    print(outcome)\n",
    "    if outcome == 'The coin landed on heads.':\n",
    "        wallet += 10.00\n",
    "        print(\"You WIN!\")\n",
    "        heads_count += 1\n",
    "    else:\n",
    "        print('You LOSE!')\n",
    "        wallet -= 10.00\n",
    "        tails_count += 1\n",
    "print('Number of Heads:', heads_count)\n",
    "print('Number of Tails:', tails_count)\n",
    "print(f'You now have ${wallet:.2f} in your wallet.')"
   ]
  },
  {
   "cell_type": "markdown",
   "id": "cd79dcec-f1b2-4f77-b051-5766a70517b8",
   "metadata": {},
   "source": [
    "Lab04 Extra Credit"
   ]
  },
  {
   "cell_type": "code",
   "execution_count": 25,
   "id": "fa7110d9-73b9-41b9-ba78-f31991ea2b07",
   "metadata": {},
   "outputs": [
    {
     "name": "stdin",
     "output_type": "stream",
     "text": [
      "Enter a test score between 0 and 100, -1 when done: 99\n",
      "Enter a test score between 0 and 100, -1 when done: 105\n"
     ]
    },
    {
     "name": "stdout",
     "output_type": "stream",
     "text": [
      "That's not a valid score.\n"
     ]
    },
    {
     "name": "stdin",
     "output_type": "stream",
     "text": [
      "Enter a test score between 0 and 100, -1 when done: 85\n",
      "Enter a test score between 0 and 100, -1 when done: -1\n"
     ]
    },
    {
     "name": "stdout",
     "output_type": "stream",
     "text": [
      "\n",
      "The average of 2 test scores is: 92.0\n"
     ]
    }
   ],
   "source": [
    "#Author: Alexei Cichon\n",
    "#Purpose: The purpose of this program is to average multiple test scores that the user \n",
    "#will enter from a test score range of 0-100 and once they are done with entering\n",
    "#there test scores to calculate the scores average they need to type -1 to exit/calculate the test scores.\n",
    "\n",
    "#Initializing test_score_total/counter to 0 to add amount of test scores/total\n",
    "test_score_total = 0\n",
    "counter_value = 0\n",
    "\n",
    "#Input for test scores/will perform while loop for multiple test scores to be recorded,\n",
    "#and will add to test_score_total/counter values while recording down multiple test scores entered\n",
    "#Once user has finished entering test scores and wants to quit with input -1, than will add all test scores/divide by amount\n",
    "test_score = int(input(\"Enter a test score between 0 and 100, -1 when done:\"))\n",
    "while test_score != -1 :\n",
    "    counter_value += 1\n",
    "    test_score_total += test_score\n",
    "    test_score = int(input(\"Enter a test score between 0 and 100, -1 when done:\"))\n",
    "    if test_score > 100 or test_score < -2 :\n",
    "        print(\"That's not a valid score.\")\n",
    "        counter_value -= 1\n",
    "        test_score_total -= test_score\n",
    "if counter_value != 0 :\n",
    "    print(\"\\nThe average of \" + str(counter_value) + \" test scores is: \" + str(float(test_score_total / counter_value)))\n",
    "else :\n",
    "    print(\"\\nThe average of 0 test scores is: 0\")"
   ]
  },
  {
   "cell_type": "code",
   "execution_count": null,
   "id": "b1a0da6d-c5c9-44bd-8cb0-d6db816c77ea",
   "metadata": {},
   "outputs": [],
   "source": []
  }
 ],
 "metadata": {
  "kernelspec": {
   "display_name": "Python 3 (ipykernel)",
   "language": "python",
   "name": "python3"
  },
  "language_info": {
   "codemirror_mode": {
    "name": "ipython",
    "version": 3
   },
   "file_extension": ".py",
   "mimetype": "text/x-python",
   "name": "python",
   "nbconvert_exporter": "python",
   "pygments_lexer": "ipython3",
   "version": "3.12.4"
  }
 },
 "nbformat": 4,
 "nbformat_minor": 5
}
