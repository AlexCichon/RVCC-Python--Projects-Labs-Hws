{
 "cells": [
  {
   "cell_type": "markdown",
   "id": "31c30a9b-8b5d-4311-8f83-fe44f5e75987",
   "metadata": {},
   "source": [
    "Hw3 Problem 1: Turtle Artwork of a Square."
   ]
  },
  {
   "cell_type": "code",
   "execution_count": null,
   "id": "e72f9dba-eead-4ae4-8c5a-6ff95de2f75a",
   "metadata": {},
   "outputs": [],
   "source": [
    "#Author: Alexei Cichon\n",
    "#Purpose: Use turtle library to draw a square\n",
    "import turtle\n",
    "\n",
    "turtle.showturtle()\n",
    "turtle.right(90)\n",
    "turtle.foward(100)\n",
    "turtle.left(90)\n",
    "turtle.foward(100)\n",
    "\n",
    "turtle.done()"
   ]
  },
  {
   "cell_type": "markdown",
   "id": "19de9169-ef82-4367-8735-6b797aa93e0d",
   "metadata": {},
   "source": [
    "Hw3 Problem 1: Turtle Artwork of a Triangle"
   ]
  },
  {
   "cell_type": "code",
   "execution_count": null,
   "id": "cfe72f27-e2d1-49a7-bae1-7dcb8458d111",
   "metadata": {},
   "outputs": [],
   "source": [
    "#Author: Alexei Cichon\n",
    "#Purpose: Use turtle library to draw a triangle\n",
    "import turtle\n",
    "\n",
    "turtle.showturtle()\n",
    "t.left (120)\n",
    "t.forward(100)\n",
    "t.forward(100)\n",
    "    \n",
    "turtle.done()"
   ]
  },
  {
   "cell_type": "markdown",
   "id": "c7b0fe75-8dcc-40ef-a864-196c0e95287c",
   "metadata": {},
   "source": [
    "Hw3 Problem 1: Attemp of making multiple circle's a different color"
   ]
  },
  {
   "cell_type": "code",
   "execution_count": null,
   "id": "0c046818-b365-419f-a502-bee53e63de8e",
   "metadata": {},
   "outputs": [],
   "source": [
    "#Author: Alexei Cichon\n",
    "#Purpose: Use turtle library to draw multiple different color circles \n",
    "import turtle\n",
    "\n",
    "turtle.showturtle()\n",
    "turtle.pencolor('lime green')\n",
    "turtle.forward(10) \n",
    "turtle.circle(120)\n",
    "turtle.pencolor('black)\n",
    "turtle.forward(5)\n",
    "turte.pencolor('red')\n",
    "turtle.forward(10) \n",
    "turtle.right(130)\n",
    "turtle.pencolor('black)\n",
    "turtle.forward(5)\n",
    "turtle.pencolor('cyan')\n",
    "turtle.forward(10) \n",
    "turtle.right(130)\n",
    "\n",
    "  \n",
    "turtle.done()"
   ]
  },
  {
   "cell_type": "markdown",
   "id": "69487a01-ff85-4a48-8036-11ec00892d89",
   "metadata": {},
   "source": [
    "HW3 Problem 2:"
   ]
  },
  {
   "cell_type": "code",
   "execution_count": 3,
   "id": "1ed3f442-575e-41fa-a696-5e9263ea3ae6",
   "metadata": {},
   "outputs": [
    {
     "name": "stdin",
     "output_type": "stream",
     "text": [
      "Enter your age:  20\n",
      "Enter interest age:  18\n",
      "Do you have a stable job currently? (yes or no)  yes\n"
     ]
    },
    {
     "name": "stdout",
     "output_type": "stream",
     "text": [
      "Nice, why not ask them to mini golfing or buy them a cup of coffee.\n",
      "Both options are great conversation starters\n",
      "Go get em tiger!\n"
     ]
    }
   ],
   "source": [
    "#Author: Alexei Cichon\n",
    "#Purpose: Will ask the user to enter their age/interest age than will do a calculation\n",
    "#to see if the user can date the oerson or not, if yes will prompt the user with another\n",
    "#question to see if they are financially supportive to take care of the person/take on dates\n",
    "\n",
    "#variables/functions used\n",
    "#if statement to calulcate path after age/interest age were entered\n",
    "#if meets certain areas in statement will go down to another if statement, if not \n",
    "#will go down to its else statement.\n",
    "\n",
    "your_age = int(input(\"Enter your age: \"))\n",
    "interest_age = int(input(\"Enter interest age: \"))\n",
    "if interest_age < your_age / 2 + 7:\n",
    "    print(\"You are creepy, rethink your life choices about appropriate dating ages\")\n",
    "else:\n",
    "    job_secured = input(\"Do you have a stable job currently? (yes or no) \")\n",
    "\n",
    "if job_secured == 'yes':\n",
    "    print(\"Nice, why not ask them to mini golfing or buy them a cup of coffee.\")\n",
    "    print(\"Both options are great conversation starters\")\n",
    "    print(\"Go get em tiger!\")\n",
    "\n",
    "else:\n",
    "    print(\"Maybe get a job first, and earn some cash to take them somewhere nice\")\n"
   ]
  },
  {
   "cell_type": "markdown",
   "id": "44f8c1c6-c1bb-4d77-8808-384501ee5376",
   "metadata": {},
   "source": [
    "HW3 Problem 3:"
   ]
  },
  {
   "cell_type": "code",
   "execution_count": 4,
   "id": "71570157-7c4f-44eb-abf9-8acf3011c089",
   "metadata": {},
   "outputs": [
    {
     "name": "stdin",
     "output_type": "stream",
     "text": [
      "Please enter a persons age. 90\n"
     ]
    },
    {
     "name": "stdout",
     "output_type": "stream",
     "text": [
      "This person is a very mature and wise person\n"
     ]
    }
   ],
   "source": [
    "#Author: Alexei Cichon\n",
    "#Purpose: Will ask the user to enter a age and will calculate what kind person they are \n",
    "#based on the age enetered, than display it back to the user\n",
    "\n",
    "#variables/functions used\n",
    "#uses if statement/elif statement on the persons input age value and will go down\n",
    "#the elif statments to calculate the age entered with the values of the elif statements\n",
    "age = int(input(\"Please enter a persons age.\")) \n",
    "if age <= 1: print(\"This person is an infant.\")\n",
    "elif 1 < age < 3: print(\"This person is a toddler.\")\n",
    "elif 3 <= age < 13: print(\"This person is a child\")\n",
    "elif 13 <= age <20: print(\"This person is a teenager\")\n",
    "elif 20 <= age < 70: print(\"This person is a adult\")\n",
    "else: \n",
    "    print(\"This person is a very mature and wise person!\")"
   ]
  },
  {
   "cell_type": "code",
   "execution_count": null,
   "id": "d18945aa-d5df-4750-b514-514637e0c0c8",
   "metadata": {},
   "outputs": [],
   "source": []
  }
 ],
 "metadata": {
  "kernelspec": {
   "display_name": "Python 3 (ipykernel)",
   "language": "python",
   "name": "python3"
  },
  "language_info": {
   "codemirror_mode": {
    "name": "ipython",
    "version": 3
   },
   "file_extension": ".py",
   "mimetype": "text/x-python",
   "name": "python",
   "nbconvert_exporter": "python",
   "pygments_lexer": "ipython3",
   "version": "3.12.4"
  }
 },
 "nbformat": 4,
 "nbformat_minor": 5
}
