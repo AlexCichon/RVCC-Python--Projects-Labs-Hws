{
 "cells": [
  {
   "cell_type": "markdown",
   "id": "e2014ae4-35af-4a55-a5af-28cdb8c461ed",
   "metadata": {},
   "source": [
    "Lab03 Problem #1"
   ]
  },
  {
   "cell_type": "code",
   "execution_count": 67,
   "id": "cab97f40-c1bd-4ee7-a2ae-f7eb479f85b1",
   "metadata": {},
   "outputs": [
    {
     "name": "stdout",
     "output_type": "stream",
     "text": [
      "Welcome to my game\n"
     ]
    },
    {
     "name": "stdin",
     "output_type": "stream",
     "text": [
      "Do you want to be 'rock', 'paper', or 'scissors'?  scissors\n"
     ]
    },
    {
     "name": "stdout",
     "output_type": "stream",
     "text": [
      "You are scissors\n",
      "The computer has rock\n",
      "Sorry, You LOSE!\n"
     ]
    }
   ],
   "source": [
    "#Author: Alexei Cichon\n",
    "#Purpose: The purpose of this code is to allow the player to play a\n",
    "#rock, paper, scissors game. While the code itself is done by using nested\n",
    "#if statements combine with else/elif in the program\n",
    "\n",
    "#The player will select a either rock, paper, scissors and than the computer \n",
    "#will select one at random and than the program will decide if you win/lose or tie.\n",
    "\n",
    "#import random function for computer to choose rock, paper, scissors\n",
    "import random\n",
    "\n",
    "print(\"Welcome to my game\")\n",
    "#Input choice for player to select either rock. paper, or scissors \n",
    "player = input(\"Do you want to be 'rock', 'paper', or 'scissors'? \")\n",
    "print(\"You are\", player)\n",
    "#Computer than decides at random of choice agaisnt player \n",
    "computer = random.choice(['rock', 'paper', 'scissors'])\n",
    "print(\"The computer has\", computer)\n",
    "\n",
    "#Nested if statement for player vs computer with first being tied option\n",
    "#with else statement below for player rock choice\n",
    "if player == computer:\n",
    "    print(\"We tie. Try again?\")    \n",
    "else:\n",
    "    if player == 'rock':\n",
    "        if computer == 'scissors':\n",
    "            print(\"Congrats, You WIN!\")\n",
    "        else:\n",
    "            print(\"Sorry, You LOSE!\")\n",
    "    #Elif statement for option with player scissors choice        \n",
    "    elif player == 'scissors':\n",
    "        if computer == 'paper':\n",
    "            print(\"Congrats, You WIN!\")\n",
    "        else:\n",
    "            print(\"Sorry, You LOSE!\")\n",
    "    #Elif statement for option with player paper choice\n",
    "    elif player == 'paper':\n",
    "        if computer == 'rock':\n",
    "            print(\"Congrats, You WIN!\")\n",
    "        else:\n",
    "            print(\"Sorry, You LOSE!\")\n",
    "    "
   ]
  },
  {
   "cell_type": "markdown",
   "id": "7693ef21-4b8e-44f9-9359-fbaeb20060a3",
   "metadata": {},
   "source": [
    "Lab03 Problem #2"
   ]
  },
  {
   "cell_type": "code",
   "execution_count": 78,
   "id": "34fd3704-2223-4f7a-bc79-0b56e002f61f",
   "metadata": {},
   "outputs": [
    {
     "name": "stdout",
     "output_type": "stream",
     "text": [
      "Welcome to my game\n"
     ]
    },
    {
     "name": "stdin",
     "output_type": "stream",
     "text": [
      "Do you want to be 'rock', 'paper', 'scissors', 'bee', or 'plane'?  plane\n"
     ]
    },
    {
     "name": "stdout",
     "output_type": "stream",
     "text": [
      "You are plane\n",
      "The computer has rock\n",
      "Congrats, You WIN!\n"
     ]
    }
   ],
   "source": [
    "#Author: Alexei Cichon\n",
    "#Purpose: The purpose of this code is to add 2 more variables into the basic rock, paper, scissors\n",
    "#game. The 2 variables that are added are bee and plane. The user selects a option and the computer\n",
    "#selects a choice at random than the code will determine based on the choice who wins, loses or ties\n",
    "\n",
    "#Game Variable Logic:\n",
    "#Rock: Rock beats scissors since its basic game law but also beats bee since it smushes it but loses to paper and \n",
    "#plane since plane moves rock when taking off\n",
    "\n",
    "#Paper: beats rocks and also beats plane since it obscures the pilots vision but loses to scissors and bee since\n",
    "#the bee thinks the paper looks like a white flower and refuses to leave it alone\n",
    "\n",
    "#Scissors: beats paper and also bee since its blades are so sharp it cuts its wings and loses flight but \n",
    "#loses to rock and plane since the pilot doesnt need to cut anything and leaves it behind to collect dust\n",
    "\n",
    "#Bee: beats paper since it thinks its a flower and wont leave it alone and plane since it makes the pilot crash cause\n",
    "#hes trying to swat at it but loses to rock since it gets crushed and scissors due to its blade\n",
    "\n",
    "#Plane: beats scissors due to pilot not needing them and leaving them to collect dust and rock since it launches it\n",
    "#when taking off but loses to bee due to pilot swatting it and paper cause of distracting the pilot\n",
    "\n",
    "import random\n",
    "\n",
    "print(\"Welcome to my game\")\n",
    "# Input choice for player to select either rock, paper, scissors, bee, or plane \n",
    "player = input(\"Do you want to be 'rock', 'paper', 'scissors', 'bee', or 'plane'? \")\n",
    "print(\"You are\", player)\n",
    "\n",
    "# Computer selects a random choice\n",
    "computer = random.choice(['rock', 'paper', 'scissors', 'bee', 'plane'])\n",
    "print(\"The computer has\", computer)\n",
    "\n",
    "# Game logic with nested if statements\n",
    "if player == computer:\n",
    "    print(\"We tie. Try again?\")    \n",
    "else:\n",
    "    if player == 'rock':\n",
    "        if computer == 'scissors' or computer == 'bee':\n",
    "            print(\"Congrats, You WIN!\")\n",
    "        else:\n",
    "            print(\"Sorry, You LOSE!\")\n",
    "\n",
    "    elif player == 'scissors':\n",
    "        if computer == 'paper' or computer == 'bee':\n",
    "            print(\"Congrats, You WIN!\")\n",
    "        else:\n",
    "            print(\"Sorry, You LOSE!\")\n",
    "\n",
    "    elif player == 'paper':\n",
    "        if computer == 'rock' or computer == 'plane':\n",
    "            print(\"Congrats, You WIN!\")\n",
    "        else:\n",
    "            print(\"Sorry, You LOSE!\")\n",
    "\n",
    "    elif player == 'bee':\n",
    "        if computer == 'paper' or computer == 'plane':\n",
    "            print(\"Congrats, You WIN!\")\n",
    "        else:\n",
    "            print(\"Sorry, You LOSE!\")\n",
    "\n",
    "    elif player == 'plane':\n",
    "        if computer == 'rock' or computer == 'scissors':\n",
    "            print(\"Congrats, You WIN!\")\n",
    "        else:\n",
    "            print(\"Sorry, You LOSE!\")\n",
    "\n",
    "\n"
   ]
  },
  {
   "cell_type": "markdown",
   "id": "fe52d424-bb3a-42c0-8e26-78bae0766aec",
   "metadata": {},
   "source": [
    "Lab03 Problem #3"
   ]
  },
  {
   "cell_type": "code",
   "execution_count": 12,
   "id": "cc240b82-de22-468c-8be0-f4e94781e1fa",
   "metadata": {},
   "outputs": [
    {
     "name": "stdout",
     "output_type": "stream",
     "text": [
      "Welcome to Hotel Transylvania! Where would you like to visit first? \n"
     ]
    },
    {
     "name": "stdin",
     "output_type": "stream",
     "text": [
      "Type 'a' for Monster Hall or 'b' for Garden of Screaming Heads:  b\n"
     ]
    },
    {
     "name": "stdout",
     "output_type": "stream",
     "text": [
      "You arrive at your monster room and it is super creepy...\n",
      "You try to fall asleep but cant seem too\n"
     ]
    },
    {
     "name": "stdin",
     "output_type": "stream",
     "text": [
      "Type 'a' to investigate the strange noises or 'b' to hide under the covers and hope for the best:  b\n"
     ]
    },
    {
     "name": "stdout",
     "output_type": "stream",
     "text": [
      "You hide under the covers, but suddenly feel something crawling in your bed... Yikes!\n"
     ]
    }
   ],
   "source": [
    "#Author: Alexei Cichon\n",
    "#Purpose: The purpose of this code is a choose your own aventure program\n",
    "#where the player will decide where he wants to go based on certain decisions and inputs from them\n",
    "#to the program code itself and tells the user there own story based on there decisions\n",
    "\n",
    "print(\"Welcome to Hotel Transylvania! Where would you like to visit first? \")\n",
    "\n",
    "#Choice input for user to enter either a option or b option\n",
    "choice1 = input(\"Type 'a' for Monster Hall or 'b' for Garden of Screaming Heads: \")\n",
    "#if choice output for option a with a second choice input option at the end\n",
    "if choice1 == 'a':\n",
    "    print(\"Great, you're on your way to the Monster Hall!\")\n",
    "    print(\"But once you get there, a monster steals your luggage.\")\n",
    "    print(\"Now what? \")\n",
    "    choice2 = input(\"Type 'a' to let them go and go to your room or 'b' To chase after the monster and confront them: \")\n",
    "#if choice output for option a\n",
    "    if choice2 == 'a':\n",
    "        print(\"Guess you don't have what it takes to be in the Hotel of Monsters. So long, See Ya Chicken.\")\n",
    "#elif choice output for option b with print outputs \n",
    "    elif choice2 == 'b':\n",
    "        print(\"Good choice.  You chase after the monster and turns out it was a vampire kid and he gives it back since it was a prank!\")\n",
    "        print(\"What a funny little prank that was!\")\n",
    "#elif choice output for option b with print outputs \n",
    "elif choice1 == 'b':\n",
    "    print(\"You arrive at your monster room and it is super creepy...\")\n",
    "    print(\"You try to fall asleep but cant seem too\")\n",
    "    \n",
    "#choice output for option b with user selecting option a or option b  \n",
    "    choice2 = input(\"Type 'a' to investigate the strange noises or 'b' to hide under the covers and hope for the best: \")\n",
    "    if choice2 == 'a':\n",
    "        print(\"You bravely get up and follow the eerie noises, only to discover it's just the wind... or was it?\")\n",
    "    elif choice2 == 'b':\n",
    "        print(\"You hide under the covers, but suddenly feel something crawling in your bed... Yikes!\")\n"
   ]
  },
  {
   "cell_type": "code",
   "execution_count": null,
   "id": "8fde14a2-56a9-43a2-be26-9e24b2b99a99",
   "metadata": {},
   "outputs": [],
   "source": []
  }
 ],
 "metadata": {
  "kernelspec": {
   "display_name": "Python 3 (ipykernel)",
   "language": "python",
   "name": "python3"
  },
  "language_info": {
   "codemirror_mode": {
    "name": "ipython",
    "version": 3
   },
   "file_extension": ".py",
   "mimetype": "text/x-python",
   "name": "python",
   "nbconvert_exporter": "python",
   "pygments_lexer": "ipython3",
   "version": "3.12.4"
  }
 },
 "nbformat": 4,
 "nbformat_minor": 5
}
