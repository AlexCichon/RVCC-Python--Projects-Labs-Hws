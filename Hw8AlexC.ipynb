{
 "cells": [
  {
   "cell_type": "markdown",
   "id": "490cd752-79d8-480b-8875-a3a84e0ff192",
   "metadata": {},
   "source": [
    "HW8 Problem 1"
   ]
  },
  {
   "cell_type": "code",
   "execution_count": 3,
   "id": "ab592c95-bbcf-4d5b-abcc-61e30903d13a",
   "metadata": {},
   "outputs": [
    {
     "name": "stdout",
     "output_type": "stream",
     "text": [
      "Debate/Word Count Program\n",
      "\n",
      "Trump spoke the most, by 45 times.\n"
     ]
    },
    {
     "name": "stdin",
     "output_type": "stream",
     "text": [
      "\n",
      "Enter a word or phrase to search for in the transcript:  we\n"
     ]
    },
    {
     "name": "stdout",
     "output_type": "stream",
     "text": [
      "The term 'we' appears 247 times in the debate.\n",
      "\n",
      "The top 3 most common words that were used in the debate with Trump/Hillary transcript are:\n",
      " 'the' = 762 occurrences\n",
      " 'to' = 586 occurrences\n",
      " 'and' = 497 occurrences\n"
     ]
    }
   ],
   "source": [
    "#Author: Alexei Cichon\n",
    "#Description: This program analyzes the 2016 Presidential Debate transcript, determining which candidate\n",
    "#spoke more, it also provides a search feature for user-defined strings, and reveals interesting insights about the data.\n",
    "\n",
    "def get_words_from_file(filename):\n",
    "    \n",
    "    #Reads the text from a file, removes punctuation and newlines, converts to lowercase,\n",
    "    #and returns a list of words.\n",
    "    with open(filename) as file:\n",
    "        text = file.read()\n",
    "    text = text.replace(\"\\n\", \" \").replace(\",\", \"\").replace(\".\", \"\").lower()\n",
    "    words = [word for word in text.split(\" \") if word]  # remove any empty strings\n",
    "    return words\n",
    "\n",
    "def count_candidate_statements(words):\n",
    "    #Counts how many times each candidate Clinton or Trump is mentioned as speaking\n",
    "    #in the transcript file.\n",
    "    clinton_count = words.count(\"clinton:\")\n",
    "    trump_count = words.count(\"trump:\")\n",
    "    return clinton_count, trump_count\n",
    "\n",
    "#Searches for the occurrences of a specific string in the word list.\n",
    "#Returns the word used count\n",
    "def search_string_occurrence(words, search_string):\n",
    "    return words.count(search_string.lower())\n",
    "\n",
    "#This Analyzes a additional interesting fact about the transript file\n",
    "#Will go through and look for words that were used the most in the transcript\n",
    "def additional_insight(words):\n",
    "    from collections import Counter\n",
    "    common_words = Counter(words).most_common(3)\n",
    "    #Returns the top 3 most common words.  \n",
    "    return common_words\n",
    "\n",
    "#Main function that will execute the word count, candidate count, search feature word,\n",
    "#and additional insights features about the debate transcript.\n",
    "def main():    \n",
    "    filename = \"DebateTranscript.txt\"\n",
    "    print(\"Debate/Word Count Program\\n\")\n",
    "    # Get words from file\n",
    "    words = get_words_from_file(filename)\n",
    "    # Count each candidate's statements\n",
    "    clinton_count, trump_count = count_candidate_statements(words)\n",
    "    if clinton_count > trump_count:\n",
    "        print(f\"Clinton spoke the most, by {clinton_count - trump_count} times.\")\n",
    "    elif trump_count > clinton_count:\n",
    "        print(f\"Trump spoke the most, by {trump_count - clinton_count} times.\")\n",
    "    else:\n",
    "        print(\"Both candidates spoke an equal number of times during the debate.\")\n",
    "\n",
    "    #The Search string feature, where it prompts user to enter word to be searched for X times in transcript\n",
    "    #than prints out string/word how many times it appears/used in debate\n",
    "    search_string = input(\"\\nEnter a word or phrase to search for in the transcript: \").lower()\n",
    "    search_count = search_string_occurrence(words, search_string)\n",
    "    print(f\"The term '{search_string}' appears {search_count} times in the debate.\")\n",
    "\n",
    "    #Additional Information/Interesting fact about Transcript\n",
    "    #This is going to print out the 3 most common words that were used during the debate\n",
    "    print(\"\\nThe top 3 most common words that were used in the debate with Trump/Hillary transcript are:\")\n",
    "    for word, count in additional_insight(words):\n",
    "        print(f\" '{word}' = {count} occurrences\")\n",
    "\n",
    "if __name__ == \"__main__\":\n",
    "    main()\n",
    "\n"
   ]
  },
  {
   "cell_type": "markdown",
   "id": "44dac75a-e833-44a0-9018-cae211b42e93",
   "metadata": {},
   "source": [
    "HW8 Problem 2"
   ]
  },
  {
   "cell_type": "code",
   "execution_count": 5,
   "id": "150ead7c-2d83-48e1-8e57-569b71e73da5",
   "metadata": {},
   "outputs": [
    {
     "name": "stdout",
     "output_type": "stream",
     "text": [
      "\n",
      "String-creation challenges\n",
      "Answer 1: hey\n",
      "Answer 2: colvmudde\n",
      "Answer 3: arveyudd\n",
      "Answer 4: harvvharvharvharv\n",
      "Answer 5: legamalegad\n",
      "Answer 6: colvucoll\n"
     ]
    }
   ],
   "source": [
    "#Author: Alexei Cichon\n",
    "#Description: This program is a string manipulation challenge where it will try to\n",
    "#spell out the string word using the pre set string values\n",
    "\n",
    "# String values \n",
    "h = 'harvey'\n",
    "m = 'mudd'\n",
    "c = 'college'\n",
    "\n",
    "#Printing out Title/attempting to print out String word challenge using string values\n",
    "print(\"\\nString-creation challenges\")\n",
    "# Problem 1: \"hey\"\n",
    "answer1 = h[0] + h[4:6]\n",
    "print(\"Answer 1:\", answer1)\n",
    "\n",
    "# Problem 2: \"collude\"\n",
    "answer2 = c[0:3] + h[3] + m[0:4] + h[4]\n",
    "print(\"Answer 2:\", answer2)\n",
    "\n",
    "# Problem 3: \"arveyudd\"\n",
    "answer3 = h[1:] + m[1:]\n",
    "print(\"Answer 3:\", answer3)\n",
    "\n",
    "# Problem 4: \"hardeharharhar\"\n",
    "answer4 = h[:4] + h[3] + h[:4] * 3\n",
    "print(\"Answer 4:\", answer4)\n",
    "\n",
    "# Problem 5: \"legomyego\"\n",
    "answer5 = c[3:6] + h[1] + m[0] + h[1] + c[3:6] + h[1] + m[2]\n",
    "print(\"Answer 5:\", answer5)\n",
    "\n",
    "# Problem 6: \"clearcall\"\n",
    "answer6 = c[:3] + h[3] + m[1] + c[0] + c[1:4]\n",
    "print(\"Answer 6:\", answer6)\n"
   ]
  }
 ],
 "metadata": {
  "kernelspec": {
   "display_name": "Python 3 (ipykernel)",
   "language": "python",
   "name": "python3"
  },
  "language_info": {
   "codemirror_mode": {
    "name": "ipython",
    "version": 3
   },
   "file_extension": ".py",
   "mimetype": "text/x-python",
   "name": "python",
   "nbconvert_exporter": "python",
   "pygments_lexer": "ipython3",
   "version": "3.12.4"
  }
 },
 "nbformat": 4,
 "nbformat_minor": 5
}
