{
 "cells": [
  {
   "cell_type": "markdown",
   "id": "5d7a3dc0-5b0e-48a8-ad0b-777c1f063caf",
   "metadata": {},
   "source": [
    "Alexei Cichon & Keven Walsh & Dariel Nunez  Group 5"
   ]
  },
  {
   "cell_type": "markdown",
   "id": "ff7a7616-821e-4575-8257-a9999681d28e",
   "metadata": {},
   "source": [
    "Lab 11 Product Viewer Program | Problem: 1\n",
    "Impacts below:\n",
    "Product:\n",
    "- Added a __str__ method that prints name and discount price\n",
    "  \n",
    "Book:\n",
    "- Overrided Product's __str__ method to print the name, discount price and author\n",
    "  \n",
    "Movie:\n",
    "- Overrided Product's __str__ method to print the name, discount price and year\n",
    "  \n",
    "MusicAlbum:\n",
    "- Created MusicAlbum class with same attributes as the product and Artist and Format\n",
    "- Added a getDescription() method that prints name, format, and artist of the musicAlbum\n",
    "- Overrided Product's __str__ method to print the name, discount price, Artist and Format\n",
    "\n",
    "Main():\n",
    "- Added a MusicAlbum object to the products list"
   ]
  },
  {
   "cell_type": "code",
   "execution_count": 92,
   "id": "c63bf585-a00b-4127-ad7b-c3a5365975c1",
   "metadata": {},
   "outputs": [
    {
     "name": "stdout",
     "output_type": "stream",
     "text": [
      "The Product Viewer program\n",
      "\n",
      "PRODUCTS\n",
      "1. Stanley 13 Ounce Wood Hammer\n",
      "2. Gone Girl by John Jones\n",
      "3. The Spy Who Dumped Me - DVD (2018)\n",
      "4. Day by Day CD by The Beatles\n",
      "\n"
     ]
    },
    {
     "name": "stdin",
     "output_type": "stream",
     "text": [
      "Enter product number:  1\n"
     ]
    },
    {
     "name": "stdout",
     "output_type": "stream",
     "text": [
      "\n",
      "PRODUCT DATA\n",
      "Name:              Stanley 13 Ounce Wood Hammer\n",
      "Discount price:    4.94\n",
      "\n"
     ]
    },
    {
     "name": "stdin",
     "output_type": "stream",
     "text": [
      "Continue? (y/n):  y\n"
     ]
    },
    {
     "name": "stdout",
     "output_type": "stream",
     "text": [
      "\n"
     ]
    },
    {
     "name": "stdin",
     "output_type": "stream",
     "text": [
      "Enter product number:  2\n"
     ]
    },
    {
     "name": "stdout",
     "output_type": "stream",
     "text": [
      "\n",
      "PRODUCT DATA\n",
      "Name:              Gone Girl\n",
      "Discount price:    10.53\n",
      "Author:            John Jones\n",
      "\n"
     ]
    },
    {
     "name": "stdin",
     "output_type": "stream",
     "text": [
      "Continue? (y/n):  y\n"
     ]
    },
    {
     "name": "stdout",
     "output_type": "stream",
     "text": [
      "\n"
     ]
    },
    {
     "name": "stdin",
     "output_type": "stream",
     "text": [
      "Enter product number:  3\n"
     ]
    },
    {
     "name": "stdout",
     "output_type": "stream",
     "text": [
      "\n",
      "PRODUCT DATA\n",
      "Name:              The Spy Who Dumped Me - DVD\n",
      "Discount price:    18.91\n",
      "Year:              2018\n",
      "\n"
     ]
    },
    {
     "name": "stdin",
     "output_type": "stream",
     "text": [
      "Continue? (y/n):  y\n"
     ]
    },
    {
     "name": "stdout",
     "output_type": "stream",
     "text": [
      "\n"
     ]
    },
    {
     "name": "stdin",
     "output_type": "stream",
     "text": [
      "Enter product number:  4\n"
     ]
    },
    {
     "name": "stdout",
     "output_type": "stream",
     "text": [
      "\n",
      "PRODUCT DATA\n",
      "Name:              Day by Day\n",
      "Discount price:    10.00\n",
      "Artist:            The Beatles\n",
      "Format:            CD\n",
      "\n"
     ]
    },
    {
     "name": "stdin",
     "output_type": "stream",
     "text": [
      "Continue? (y/n):  n\n"
     ]
    },
    {
     "name": "stdout",
     "output_type": "stream",
     "text": [
      "\n"
     ]
    }
   ],
   "source": [
    "# Author: Alexei Cichon & Kevin Walsh & Dariel Nunez\n",
    "#Description: Product Viewer Progrom for the user to view different products with a added music album class that showcases a album's details\n",
    "class Product:\n",
    "    \"\"\"constructor for the product class\"\"\"\n",
    "    # constructor that initializes three attributes\n",
    "    def __init__(self, name = \"\", price = 0.0, discountPercent = 0):\n",
    "        self.name = name\n",
    "        self.price = price\n",
    "        self.discountPercent = discountPercent\n",
    "        \n",
    "    # method that uses two two attributes to perform a calculation\n",
    "    def getDiscountAmount(self):\n",
    "        return self.price * self.discountPercent / 100\n",
    "    \n",
    "    # method that calls another method to perform a calculation\n",
    "    def getDiscountPrice(self):\n",
    "        return self.price - self.getDiscountAmount()\n",
    "    \n",
    "    # method thaat returns the author name\n",
    "    def getDescription(self):\n",
    "        return self.name\n",
    "        \n",
    "    \"\"\"prints the name and discount price\"\"\"\n",
    "    def __str__(self):\n",
    "        return \"Name:              \" + self.name + str(\"\\nDiscount price:    {:.2f}\".format((self.getDiscountPrice())))\n",
    "\n",
    "# code for the Book Subclass\n",
    "class Book(Product):\n",
    "    \"\"\"Constructor for the Book Class\"\"\"\n",
    "    def __init__(self, name = \"\", price = 0.0, discountPercent = 0, author = \"\"):\n",
    "        \n",
    "        # first call the constructor of the superclass\n",
    "        Product.__init__(self, name, price, discountPercent)\n",
    "        \n",
    "        # set the author\n",
    "        self.author = author\n",
    "        \n",
    "    # override the getDescription method\n",
    "    \"\"\"Returns the name and the author\"\"\"\n",
    "    def getDescription(self):\n",
    "        return str(Product.getDescription(self)) + \" by \" + self.author\n",
    "        \n",
    "    \"\"\" Overide to print the Name, Discount Price, Author of the Book class\"\"\"\n",
    "    def __str__(self):\n",
    "        return str(Product.__str__(self)) + \"\\nAuthor:            \" + self.author\n",
    "    \n",
    "# The code for the Movie subclass\n",
    "class Movie(Product):\n",
    "    \"\"\"Constructor for the Movie Class\"\"\"\n",
    "    def __init__(self, name = \"\", price = 0.0, discountPercent = 0, year = \"\"):\n",
    "        \n",
    "        # first call the constructor of the superclass\n",
    "        Product.__init__(self, name, price, discountPercent)\n",
    "        \n",
    "        # set the author\n",
    "        self.year = year\n",
    "        \n",
    "    # override the getDescription method\n",
    "    \"\"\"Returns the name and the year\"\"\"\n",
    "    def getDescription(self):\n",
    "        return Product.getDescription(self) + \" (\" + str(self.year) + \")\"\n",
    "        \n",
    "    \"\"\" Overide to print the name, discountprice and year of the movie class\"\"\"\n",
    "    def __str__(self):\n",
    "        return str(Product.__str__(self)) + \"\\nYear:              \" + str(self.year)\n",
    "        \n",
    " # Music album product for the class       \n",
    "class MusicAlbum(Product):\n",
    "    \"\"\"Constructor for the added MusicAlbum class\"\"\"\n",
    "    def __init__(self, name = \"\", price = 0.0, discountPercent = 0, artist = \"\", format = \"\"):\n",
    "\n",
    "        Product.__init__(self, name, price, discountPercent)\n",
    "        self.artist = artist\n",
    "        self.format = format\n",
    "        \n",
    "    \"\"\" getter for the musicalbums attributes, returns name and author\"\"\"\n",
    "    def getDescription(self):\n",
    "        return Product.getDescription(self) + \" \" + self.format + \" by \" + self.artist\n",
    "        \n",
    "    \"\"\" Overide method to print name, discount price, Artist and Format\"\"\"\n",
    "    def __str__(self):\n",
    "        return str(Product.__str__(self)) + \"\\nArtist:            \" + self.artist + \"\\nFormat:            \" + self.format\n",
    "\n",
    "\"\"\" Function to show products \"\"\"\n",
    "def show_products(products):\n",
    "    print(\"PRODUCTS\")\n",
    "    for i in range(len(products)):\n",
    "        product = products[i]\n",
    "        print(str(i+1) + \". \" + product.getDescription())\n",
    "    print()\n",
    "\n",
    "\"\"\"Function to show the product Data\"\"\"      \n",
    "def show_product(product):\n",
    "    print(\"PRODUCT DATA\")\n",
    "    print(product)\n",
    "    print()\n",
    "\n",
    "\"\"\" Main function to run the program\"\"\"\n",
    "def main():\n",
    "    print(\"The Product Viewer program\")\n",
    "    print()\n",
    "    # a tuple of product objects\n",
    "    products = (Product('Stanley 13 Ounce Wood Hammer', 12.99, 62),\n",
    "                Book(\"Gone Girl\", 15.95, 34, \"John Jones\"),\n",
    "                Movie(\"The Spy Who Dumped Me - DVD\", 21.99, 14, 2018),\n",
    "                MusicAlbum(\"Day by Day\", 10.00, 0,\"The Beatles\",\"CD\"))\n",
    "    show_products(products)\n",
    "\n",
    "    again = True\n",
    "    while again:\n",
    "        number = int(input(\"Enter product number: \"))\n",
    "        print()\n",
    "        \n",
    "        product = products[number - 1]\n",
    "        show_product(product)\n",
    "        \n",
    "        choice = input(\"Continue? (y/n): \")\n",
    "        print()\n",
    "        if choice.lower() != \"y\":\n",
    "            again = False\n",
    "    \n",
    "if __name__ == \"__main__\":\n",
    "    main()"
   ]
  },
  {
   "cell_type": "code",
   "execution_count": null,
   "id": "8f408f8e-6f38-4356-aca2-56957e338148",
   "metadata": {},
   "outputs": [],
   "source": []
  }
 ],
 "metadata": {
  "kernelspec": {
   "display_name": "Python 3 (ipykernel)",
   "language": "python",
   "name": "python3"
  },
  "language_info": {
   "codemirror_mode": {
    "name": "ipython",
    "version": 3
   },
   "file_extension": ".py",
   "mimetype": "text/x-python",
   "name": "python",
   "nbconvert_exporter": "python",
   "pygments_lexer": "ipython3",
   "version": "3.12.4"
  }
 },
 "nbformat": 4,
 "nbformat_minor": 5
}
