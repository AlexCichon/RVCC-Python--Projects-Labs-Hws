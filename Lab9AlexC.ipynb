{
 "cells": [
  {
   "cell_type": "markdown",
   "id": "d555714d-890d-4c3a-8639-91b5d6e3c986",
   "metadata": {},
   "source": [
    "Lab 9 Problem 1"
   ]
  },
  {
   "cell_type": "code",
   "execution_count": 5,
   "id": "ad4a4262-03ee-4d34-8f55-390694ae6497",
   "metadata": {},
   "outputs": [
    {
     "name": "stdin",
     "output_type": "stream",
     "text": [
      "Enter full name:  alex\n"
     ]
    },
    {
     "name": "stdout",
     "output_type": "stream",
     "text": [
      "You must enter your full name.\n"
     ]
    },
    {
     "name": "stdin",
     "output_type": "stream",
     "text": [
      "Enter full name:  alex c\n",
      "Enter password:   2486Weber!\n",
      "Enter email address: sh@gmai.com\n",
      "Enter a phone number: 9088011865\n"
     ]
    },
    {
     "name": "stdout",
     "output_type": "stream",
     "text": [
      "Please enter a 10-digit phone number.\n"
     ]
    },
    {
     "name": "stdin",
     "output_type": "stream",
     "text": [
      "Enter a phone number: 908 801 1865\n"
     ]
    },
    {
     "name": "stdout",
     "output_type": "stream",
     "text": [
      "Please enter a 10-digit phone number.\n"
     ]
    },
    {
     "name": "stdin",
     "output_type": "stream",
     "text": [
      "Enter a phone number: (908) 801 1865\n"
     ]
    },
    {
     "name": "stdout",
     "output_type": "stream",
     "text": [
      "Please enter a 10-digit phone number.\n"
     ]
    },
    {
     "name": "stdin",
     "output_type": "stream",
     "text": [
      "Enter a phone number: (908) 801-1865\n"
     ]
    },
    {
     "name": "stdout",
     "output_type": "stream",
     "text": [
      "\n",
      "Hi alex, thanks for creating an account.\n",
      "We'll text your confirmation code to this number: 908.801.1865\n"
     ]
    }
   ],
   "source": [
    "#Author: Alexei Cichon\n",
    "#Purpose of this program is to create an account that has valid emails/phone number features\n",
    "#that are needed for creating an account\n",
    "\n",
    "# Create Account Program\n",
    "\n",
    "def get_full_name():\n",
    "    \"\"\"\n",
    "    Will ask the user for their full name.\n",
    "    It must contain a first name and a last name.\n",
    "    \"\"\"\n",
    "    bad_name = True\n",
    "    while bad_name:\n",
    "        name = input(\"Enter full name: \").strip()\n",
    "        if \" \" in name:\n",
    "            bad_name = False\n",
    "            return name\n",
    "        else:\n",
    "            print(\"You must enter your full name.\")\n",
    "            \n",
    "def get_password():\n",
    "    \"\"\"\n",
    "    Will Ask the user for a password.It must contain 8 characters or more,\n",
    "    as well as at least one digit and one uppercase letter.\n",
    "    \"\"\"\n",
    "    bad_pwd = True\n",
    "    while bad_pwd:\n",
    "        password = input(\"Enter password:  \").strip()\n",
    "        digit = False\n",
    "        cap_letter = False\n",
    "        for char in password:\n",
    "            if char.isdigit():\n",
    "                digit = True\n",
    "            elif char.isupper():\n",
    "                cap_letter = True\n",
    "        if digit == False or cap_letter == False or len(password) < 8:\n",
    "            print(\"Password must be 8 characters or more \\n\" +\n",
    "                  \"with at least one digit and one uppercase letter.\")\n",
    "        else:\n",
    "            bad_pwd = False\n",
    "            return password\n",
    "        \n",
    "def get_first_name(full_name):\n",
    "    \"\"\"\n",
    "    Retrieves the first name out of the user's \n",
    "    full name to print account creation message.\n",
    "    \"\"\"\n",
    "    index1 = full_name.find(\" \")\n",
    "    first_name = full_name[:index1]\n",
    "    return first_name\n",
    "\n",
    "def get_email_address():\n",
    "    \"\"\"\n",
    "    Will Asks the user for their email address.\n",
    "    It must contain a username, an @ symbol followed by \n",
    "    the email provider than must be followed by .com\n",
    "    \"\"\"\n",
    "    bad_email = True\n",
    "    while bad_email:\n",
    "        email = input(\"Enter email address:\").strip()\n",
    "        if \" \" not in email:\n",
    "            index1 = email.find(\"@\")\n",
    "            if index1 != -1 and index1 != 0:\n",
    "                index2 = email.find(\".com\")\n",
    "                if index2 != -1 and index2 > index1 + 1:\n",
    "                    return email\n",
    "        print(\"Please enter a valid email address.\")\n",
    "\n",
    "\n",
    "def get_phone_number():\n",
    "    \"\"\"\n",
    "    Ask the user for their phone number.\n",
    "    It must be in the format of:\n",
    "    (AAA) AAA-AAAA\n",
    "    where A is a number digit.\n",
    "    \"\"\"\n",
    "    bad_phone_number = True\n",
    "    while bad_phone_number:\n",
    "        phone_number = input(\"Enter a phone number:\").strip()\n",
    "        if len(phone_number) == 14:\n",
    "            number1 = phone_number[1:4]\n",
    "            number2 = phone_number[6:9]\n",
    "            number3 = phone_number[10:13]\n",
    "            if number1.isdigit() and number2.isdigit() and number3.isdigit():\n",
    "                if phone_number[0] == '(' and phone_number[4] == ')' and phone_number[5] == ' ' and phone_number[9] == '-':\n",
    "                    return phone_number\n",
    "        print(\"Please enter a 10-digit phone number.\")\n",
    "    \n",
    "        \n",
    "\n",
    "\n",
    "def main():\n",
    "    \"\"\"\n",
    "    Will ask the user for their full name,\n",
    "    password, email and phone number.\n",
    "    Afterwards, it will politely thank them for\n",
    "    creating their account and with a texting of a \n",
    "    confirmation code to their number.\n",
    "    \"\"\"\n",
    "    full_name = get_full_name()    \n",
    "    password = get_password()\n",
    "    email = get_email_address()\n",
    "    phone_number = get_phone_number()\n",
    "    print()\n",
    "\n",
    "    first_name = get_first_name(full_name)\n",
    "    print(\"Hi \" + first_name + \", thanks for creating an account.\")\n",
    "    number1 = phone_number[1:4]\n",
    "    number2 = phone_number[6:9]\n",
    "    number3 = phone_number[10:14]\n",
    "    phone_number = number1 + '.' + number2 + '.' + number3\n",
    "    print(\"We'll text your confirmation code to this number: \" + phone_number)\n",
    "    \n",
    "if __name__ == \"__main__\":\n",
    "    main()"
   ]
  },
  {
   "cell_type": "code",
   "execution_count": null,
   "id": "3c9dc0b6-b186-400f-8962-df71f68aa79e",
   "metadata": {},
   "outputs": [],
   "source": []
  }
 ],
 "metadata": {
  "kernelspec": {
   "display_name": "Python 3 (ipykernel)",
   "language": "python",
   "name": "python3"
  },
  "language_info": {
   "codemirror_mode": {
    "name": "ipython",
    "version": 3
   },
   "file_extension": ".py",
   "mimetype": "text/x-python",
   "name": "python",
   "nbconvert_exporter": "python",
   "pygments_lexer": "ipython3",
   "version": "3.12.4"
  }
 },
 "nbformat": 4,
 "nbformat_minor": 5
}
