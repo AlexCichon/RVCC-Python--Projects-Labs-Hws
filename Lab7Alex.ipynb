{
 "cells": [
  {
   "cell_type": "markdown",
   "id": "35f338b4-2044-429f-b65b-b3db46c90d7b",
   "metadata": {},
   "source": [
    "Alexei Cichon & Dariel Nunez  Group 5"
   ]
  },
  {
   "cell_type": "markdown",
   "id": "0b6f0dd0-feec-4869-82a4-f0092d7f71e7",
   "metadata": {},
   "source": [
    "Lab 7 Contact Manager Program | Problem : 1 "
   ]
  },
  {
   "cell_type": "code",
   "execution_count": 31,
   "id": "b79156c5-e7dc-4d01-a248-76ecfff4ac75",
   "metadata": {},
   "outputs": [],
   "source": [
    "import csv\n",
    "\"\"\"\n",
    "Converting a List of list contact information into a csv file \n",
    "\n",
    "Incase you need the csv file for the program (may take few secs to create though)\n",
    "\"\"\"\n",
    "\n",
    "filename = \"contact_manager.csv\"\n",
    "\n",
    "contacts = [\n",
    "    [\"Michele BanBuren\", \"michele@hi.com\", \"123-456-7890\"],\n",
    "    [\"Jane Doe\", \"jane@therat.com\", \"+99 967-911-3310\"],\n",
    "    [\"Alice Claz\", \"aliceC@gmail.com\", \"55-123-4547\"]\n",
    "]\n",
    "\n",
    "#Converts contacts to the CSV file\n",
    "with open(filename, 'w', newline='') as file:\n",
    "    writer = csv.writer(file)\n",
    "    writer.writerows(contacts)"
   ]
  },
  {
   "cell_type": "code",
   "execution_count": 56,
   "id": "85e02724-0b1e-4db4-a124-e76c8430baad",
   "metadata": {},
   "outputs": [
    {
     "name": "stdout",
     "output_type": "stream",
     "text": [
      "\n",
      "Contact Manager\n",
      "\n",
      "COMMAND MENU\n",
      "list - Display all contacts\n",
      "view - View a contact\n",
      "add - Add a contact\n",
      "del - Delete a contact\n",
      "exit - Exit program\n",
      "\n"
     ]
    },
    {
     "name": "stdin",
     "output_type": "stream",
     "text": [
      "Command: del\n",
      "Number: 4\n"
     ]
    },
    {
     "name": "stdout",
     "output_type": "stream",
     "text": [
      "Invalid email number.\n"
     ]
    },
    {
     "name": "stdin",
     "output_type": "stream",
     "text": [
      "\n",
      "Command: del\n",
      "Number: four\n"
     ]
    },
    {
     "name": "stdout",
     "output_type": "stream",
     "text": [
      "Invalid email number.\n"
     ]
    },
    {
     "name": "stdin",
     "output_type": "stream",
     "text": [
      "\n",
      "Command: view\n",
      "Number: 4\n"
     ]
    },
    {
     "name": "stdout",
     "output_type": "stream",
     "text": [
      "Invalid email number.\n"
     ]
    },
    {
     "name": "stdin",
     "output_type": "stream",
     "text": [
      "\n",
      "Command: view\n",
      "Number: four\n"
     ]
    },
    {
     "name": "stdout",
     "output_type": "stream",
     "text": [
      "Invalid email number.\n"
     ]
    },
    {
     "name": "stdin",
     "output_type": "stream",
     "text": [
      "\n",
      "Command: view\n",
      "Number: 3\n"
     ]
    },
    {
     "name": "stdout",
     "output_type": "stream",
     "text": [
      "Name: Alice Claz\n",
      "Email: aliceC@gmail.com\n",
      "Phone: 55-123-4547\n"
     ]
    },
    {
     "name": "stdin",
     "output_type": "stream",
     "text": [
      "\n",
      "Command: list\n"
     ]
    },
    {
     "name": "stdout",
     "output_type": "stream",
     "text": [
      "1. Michele BanBuren\n",
      "2. Jane Doe\n",
      "3. Alice Claz\n"
     ]
    },
    {
     "name": "stdin",
     "output_type": "stream",
     "text": [
      "\n",
      "Command: exit\n"
     ]
    },
    {
     "name": "stdout",
     "output_type": "stream",
     "text": [
      "Bye!\n"
     ]
    }
   ],
   "source": [
    "import csv\n",
    "\n",
    "FILENAME = \"contact_manager.csv\"\n",
    "\n",
    "def load_emails():\n",
    "    \"\"\"\n",
    "    Loads the email contacts from the csv file into a list.\n",
    "    Opens csv file/reads its contents line by line, and appends each row \n",
    "    into a list and returns the list of email contacts.\n",
    "    \"\"\"\n",
    "    email = []\n",
    "    with open(FILENAME, newline='') as file:\n",
    "        reader = csv.reader(file)\n",
    "        for row in reader:\n",
    "            email.append(row)\n",
    "    return email\n",
    "\n",
    "def save_emails(email):\n",
    "    \"\"\"\n",
    "    Saves the email contacts list information into the csv file.\n",
    "    Takes list of email contacts and will write each contact into the csv file.\n",
    "    \"\"\"\n",
    "    with open(FILENAME, 'w', newline='') as file:\n",
    "        writer = csv.writer(file)\n",
    "        writer.writerows(email)\n",
    "\n",
    "def list_emails(emails):\n",
    "    \"\"\"\n",
    "    Displaying all the emails/contacts from the list file\n",
    "    Loops through the email list and prints each contact's name. If the list is empty, \n",
    "    prints a message saying there are no contacts present in list.\n",
    "    \"\"\"\n",
    "    if emails:\n",
    "        for i in range(len(emails)):\n",
    "            email = emails[i]\n",
    "            print(str(i + 1) + \". \" + email[0])  \n",
    "    else:\n",
    "        print(\"No emails are present in the list.\")\n",
    "\n",
    "def view_emails(emails):\n",
    "    \"\"\"\n",
    "    View details of specific contact based on the user's input.\n",
    "    Prompts the user for number corresponding to contact in the list. If the input is valid, \n",
    "    it will display the contact's name, email, and phone number. If the input is invalid, \n",
    "    it will print an error message.\n",
    "    \"\"\"\n",
    "    number = input(\"Number:\")\n",
    "    if number.isdigit():\n",
    "        number = int(number)\n",
    "        if 1 <= number <= len(emails):\n",
    "            email = emails[number - 1]\n",
    "            print(\"Name:\", email[0])\n",
    "            print(\"Email:\", email[1])\n",
    "            print(\"Phone:\", email[2])\n",
    "        else:\n",
    "            print(\"Invalid email number.\")\n",
    "    else:\n",
    "        print(\"Invalid email number.\")\n",
    "\n",
    "def add_email(emails):\n",
    "    \"\"\"\n",
    "    Adds a new email contact to the list.\n",
    "    Prompts the user for the contact's name, email, and phone number, and appends \n",
    "    the contact to the email list. So that the contact is then added to the csv file list.\n",
    "    \"\"\"\n",
    "    \n",
    "    name = input(\"Name:\")\n",
    "    email = input(\"Email:\")\n",
    "    phone = input(\"Phone:\")\n",
    "    emails.append([name, email, phone])\n",
    "    print(email, \"was added.\")\n",
    "\n",
    "def delete_email(emails):\n",
    "    \"\"\"\n",
    "    Deletes an email contact from the list based on user's input.\n",
    "    Prompts the user for a number corresponding to one of the contact's in the list. If the input is valid, \n",
    "    the contact is removed from the list and the csv file is updated. If the input is invalid, \n",
    "    it will print an error message.\n",
    "    \"\"\"\n",
    "    number = input(\"Number:\")\n",
    "    if number.isdigit():\n",
    "        number = int(number)\n",
    "        if 1 <= number <= len(emails):\n",
    "            removed_email = emails.pop(number - 1)\n",
    "            print(removed_email[0], \"was deleted.\")\n",
    "        else:\n",
    "            print(\"Invalid email number.\")\n",
    "    else:\n",
    "        print(\"Invalid email number.\")\n",
    "\n",
    "def display_menu():\n",
    "    \"\"\"\n",
    "    Displays the command menu for the user to choose a command.\n",
    "    Prints the available commands (list, view, add, del, exit) to the consoles output.\n",
    "    \"\"\"\n",
    "    print(\"\\nContact Manager\\n\")\n",
    "    print(\"COMMAND MENU\")\n",
    "    print(\"list - Display all contacts\")\n",
    "    print(\"view - View a contact\")\n",
    "    print(\"add - Add a contact\")\n",
    "    print(\"del - Delete a contact\")\n",
    "    print(\"exit - Exit program\\n\")\n",
    "\n",
    "def main():\n",
    "    \"\"\"\n",
    "    Main function that runs the contact manager program.\n",
    "    Displays the command menu, handles user input for commands, \n",
    "    and updates the contact list. The contact list is saved to the \n",
    "    csv file when the program fully exits.\n",
    "    \"\"\"\n",
    "    display_menu()  \n",
    "    emails = load_emails()  \n",
    "    command = input(\"Command:\")  \n",
    "\n",
    "    while command.lower() != \"exit\":  \n",
    "        if command.lower() == \"list\":\n",
    "            list_emails(emails)\n",
    "            command = input(\"\\nCommand:\")  \n",
    "        elif command.lower() == \"view\":\n",
    "            view_emails(emails)\n",
    "            command = input(\"\\nCommand:\")  \n",
    "        elif command.lower() == \"add\":\n",
    "            add_email(emails)\n",
    "            command = input(\"\\nCommand:\")  \n",
    "        elif command.lower() == \"del\":\n",
    "            delete_email(emails)\n",
    "            command = input(\"\\nCommand:\")  \n",
    "        else:\n",
    "            print(\"Not a valid command. Please try again.\\n\")\n",
    "            command = input(\"Command:\")  \n",
    "\n",
    "    save_emails(emails)  \n",
    "    print(\"Bye!\")\n",
    "\n",
    "if __name__ == \"__main__\":\n",
    "    main()\n"
   ]
  },
  {
   "cell_type": "code",
   "execution_count": null,
   "id": "e9e0a5ee-2e5d-4120-92eb-2d8ddb2d205b",
   "metadata": {},
   "outputs": [],
   "source": []
  }
 ],
 "metadata": {
  "kernelspec": {
   "display_name": "Python 3 (ipykernel)",
   "language": "python",
   "name": "python3"
  },
  "language_info": {
   "codemirror_mode": {
    "name": "ipython",
    "version": 3
   },
   "file_extension": ".py",
   "mimetype": "text/x-python",
   "name": "python",
   "nbconvert_exporter": "python",
   "pygments_lexer": "ipython3",
   "version": "3.12.4"
  }
 },
 "nbformat": 4,
 "nbformat_minor": 5
}
