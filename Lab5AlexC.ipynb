{
 "cells": [
  {
   "cell_type": "markdown",
   "id": "2f558d29-439c-4a8e-9824-05d66a15e6c7",
   "metadata": {},
   "source": [
    "Lab05 Problem #1\n",
    "\n",
    "PsuedoCode Steps: \n",
    "1) Write the print_stars function for printing the stars/being called in the main  \n",
    "2) Write the add_them function that will add the 2 numbers from users input/return the sum\n",
    "3) Write main function that will ask user for numbers and will store the totat, than have for loop for stars to be printed 7* amount for number of rows = number 1 + number 2\n",
    "4) Remember to include the if __name__ == \"__main__\": at end"
   ]
  },
  {
   "cell_type": "code",
   "execution_count": 142,
   "id": "e819f5bc-7d96-4398-8cb6-b1343744686e",
   "metadata": {},
   "outputs": [
    {
     "name": "stdin",
     "output_type": "stream",
     "text": [
      "Enter first number: 5\n",
      "Enter second number: 4\n"
     ]
    },
    {
     "name": "stdout",
     "output_type": "stream",
     "text": [
      "*******\n",
      "*******\n",
      "*******\n",
      "*******\n",
      "*******\n",
      "*******\n",
      "*******\n",
      "*******\n",
      "*******\n"
     ]
    }
   ],
   "source": [
    "#Author: Alexei Cichon\n",
    "#Purpose: the purpose of this program will ask user to enter 2 numbers\n",
    "#than it will add them and display the total 7 stars per line by the total of the 2 numbers\n",
    "def print_stars(star): #print Stars function\n",
    "    for i in range(star):\n",
    "        print(\"*\", end=\"\")\n",
    "    print()\n",
    "\n",
    "def add_them(number1, number2):  #add_them function will add the 2 inputed numbers \n",
    "    return number1 + number2  #return mehtod will return value of 2 numbers added\n",
    "\n",
    "def main():\n",
    "    num1 = int(input(\"Enter first number:\"))  #will ask user to enter 1st number\n",
    "    num2 = int(input(\"Enter second number:\")) #will ask user to enter 2nd number\n",
    "    sum_value = add_them(num1, num2)   #store the addthem function value to add_them function\n",
    "    \n",
    "    \n",
    "    for i in range (int(sum_value)): #for loop that will print 7 * stars of the number amount rows\n",
    "        print_stars(7) #calls print_stars function to print 7 * stars\n",
    "    \n",
    "if __name__== \"__main__\":\n",
    "    main()"
   ]
  },
  {
   "cell_type": "markdown",
   "id": "079f1659-3a91-47ac-bfda-3398b32c20d1",
   "metadata": {},
   "source": [
    "Lab05 Problem #2\n",
    "\n",
    "PsuedoCode Steps: \n",
    "1) Program function to find sum of integers from ranges 0-100 and set even/odd sum values to start at 0\n",
    "2) Program for loop for range that will check if remainder for even and odd integers and add them to there totals\n",
    "3) Have main function call other function to check if works/operates correctly\n",
    "4) Remember to include the if __name__ == \"__main__\": at end"
   ]
  },
  {
   "cell_type": "code",
   "execution_count": 74,
   "id": "b856c95e-46d7-4871-8e36-718c8dfb90c3",
   "metadata": {},
   "outputs": [
    {
     "name": "stdout",
     "output_type": "stream",
     "text": [
      "The sum of the even integers between 0 and 100 is: 2550\n",
      "The sum of the odd integers between 0 and 100 is: 2500\n"
     ]
    }
   ],
   "source": [
    "#Author: Alexei Cichon\n",
    "#Purpose:This code will calculate/display the overall sum of all \n",
    "#even/odd numbers seperatly from range of 0-100.\n",
    "\n",
    "def SumOfIntegersFrom0To100(): #Function for finding, sum of integers from range 0-100\n",
    "    evenSum = 0 #initiating the even sum to start a zero\n",
    "    oddSum = 0 #initiating the odd sum to start at zero\n",
    "    for i in range(0,101):\n",
    "        if i % 2 == 0:\n",
    "            #will check the remainder when divided by 2\n",
    "            #will know if the even sum will be true, and add it to evenSum for final total\n",
    "            evenSum += i\n",
    "        else:\n",
    "            #if the number is not even than it is odd, where it will be checked when dived by 2\n",
    "            #after will be added to the oddSum for final total\n",
    "            oddSum += i\n",
    "    print('The sum of the even integers between 0 and 100 is:', evenSum)\n",
    "    print('The sum of the odd integers between 0 and 100 is:', oddSum)\n",
    "    return\n",
    "\n",
    "#main function, where it will call other function \n",
    "def main():\n",
    "    SumOfIntegersFrom0To100()\n",
    "\n",
    "if __name__ == \"__main__\":\n",
    "    main()"
   ]
  },
  {
   "cell_type": "markdown",
   "id": "7c26c66e-84cb-49a7-a1ca-19e894f5908c",
   "metadata": {},
   "source": [
    "Lab05 Problem #3\n",
    "\n",
    "Psuedocode Steps:\n",
    "1) make function design for even/odd tester case, assign tester to true for initial value\n",
    "2) Use while loop in function for repeat process of program for user to enter numbers/check nuumber in loop for odd/even input\n",
    "3) Have break statement for while loop to exit/terminate progran for user\n",
    "4)  Remember to include the if __name__ == \"__main__\": at end"
   ]
  },
  {
   "cell_type": "code",
   "execution_count": null,
   "id": "561e0200-ee9c-4df9-add9-4c9bff73c694",
   "metadata": {},
   "outputs": [
    {
     "name": "stdout",
     "output_type": "stream",
     "text": [
      "Welcome to the Even/Odd tester!\n"
     ]
    },
    {
     "name": "stdin",
     "output_type": "stream",
     "text": [
      "\n",
      "Enter an integer: 20\n"
     ]
    },
    {
     "name": "stdout",
     "output_type": "stream",
     "text": [
      "\n",
      "You entered 20 which is an even number.\n",
      "\n",
      "Do you want to enter another number (y/n)? "
     ]
    },
    {
     "name": "stdin",
     "output_type": "stream",
     "text": [
      "\n",
      "Enter an integer: 20\n"
     ]
    },
    {
     "name": "stdout",
     "output_type": "stream",
     "text": [
      "\n",
      "You entered 20 which is an even number.\n",
      "\n",
      "Do you want to enter another number (y/n)? "
     ]
    }
   ],
   "source": [
    "#Author: Alexei Cichon\n",
    "#Purpose: Purpose of this code will ask the user to enter a number\n",
    "#than will check if number is odd or even\n",
    "#and will continue until user enters input to terminate program\n",
    "\n",
    "def evenoddtester():\n",
    "    print(\"Welcome to the Even/Odd tester!\")\n",
    "#assigning an initial value to tester\n",
    "    tester=True;\n",
    "#while loop for repeating the process of asking and continuing the program\n",
    "    while(tester):\n",
    "#taking input integer from user\n",
    "        number=int(input(\"\\nEnter an integer:\"))\n",
    "#checks for positive or negative from user input\n",
    "        if number % 2 == 0:\n",
    "            print(\"\\nYou entered\",number,\"which is an even number.\")\n",
    "        else:\n",
    "            print(\"\\nYou entered\",number,\"which is an odd number.\")\n",
    "    #checking if the user wishes to continue the program\n",
    "        print(\"\\nDo you want to enter another number (y/n)? \", end=\"\")\n",
    "\n",
    "        #print(\"Do you want to enter another number(y/n)?\")\n",
    "        #tester=input()\n",
    "        \n",
    "    #if user enters n, breaks out of the loop and terminates the program \n",
    "        if tester == \"n\":\n",
    "            print(\"\\nHasta la vista, baby!\")\n",
    "            break;\n",
    "evenoddtester() "
   ]
  },
  {
   "cell_type": "markdown",
   "id": "968ab955-34b6-4b38-9c18-1300ac135f31",
   "metadata": {},
   "source": [
    "Lab05 Problem #4\n",
    "\n",
    "Psuedocode Steps:\n",
    "1) Design calculate function and assign num variables to it/write calculation's for numbers in function and return results\n",
    "2) Design main function that will hold the num variable values, and will call on function for calculation results and print output back to user\n",
    "3) Remember to include the if __name__ == \"__main__\": at end"
   ]
  },
  {
   "cell_type": "code",
   "execution_count": 125,
   "id": "bcff3919-cb7a-4f9c-8e3b-538883b8abaa",
   "metadata": {},
   "outputs": [
    {
     "name": "stdout",
     "output_type": "stream",
     "text": [
      "The difference of 2 numbers added to the product of 2 numbers is 42.\n"
     ]
    }
   ],
   "source": [
    "#Author: Alexei Cichon\n",
    "#Purpose: The purpose of this code is to calculate 4 parameter integers, and will subtract from the second from first number\n",
    "#than will multiply the 3rd and 4th numbers together, than will add the 2 values of the numbers that got multiply/subtracted into a final\n",
    "#value result to the user\n",
    "\n",
    "# Function to perform the required calculations\n",
    "def calculate(num1, num2, num3, num4):\n",
    "#This function takes four assign valued integers:\n",
    "#Subtracts the second number from the first. Multiplies the third and fourth numbers.\n",
    "#Finally will add the values of them to a final product total and returns the result.\n",
    "    \n",
    "    difference = num1 - num2  # Compute the difference between num1 and num2\n",
    "    product = num3 * num4  # Compute the product of num3 and num4\n",
    "    result = difference + product  # Add difference and product\n",
    "    return result  # Return the final result\n",
    "\n",
    "# Main function to call calculate() \n",
    "def main():\n",
    "    result = calculate(num1=50, num2=20, num3=3, num4=4) \n",
    "    print(\"The difference of 2 numbers added to the product of 2 numbers is\", result)  #Prints the final result's\n",
    "\n",
    "if __name__ == \"__main__\":\n",
    "    main()"
   ]
  },
  {
   "cell_type": "code",
   "execution_count": null,
   "id": "320184d2-8bf2-4868-a859-d46a8e697c8e",
   "metadata": {},
   "outputs": [],
   "source": []
  }
 ],
 "metadata": {
  "kernelspec": {
   "display_name": "Python 3 (ipykernel)",
   "language": "python",
   "name": "python3"
  },
  "language_info": {
   "codemirror_mode": {
    "name": "ipython",
    "version": 3
   },
   "file_extension": ".py",
   "mimetype": "text/x-python",
   "name": "python",
   "nbconvert_exporter": "python",
   "pygments_lexer": "ipython3",
   "version": "3.12.4"
  }
 },
 "nbformat": 4,
 "nbformat_minor": 5
}
