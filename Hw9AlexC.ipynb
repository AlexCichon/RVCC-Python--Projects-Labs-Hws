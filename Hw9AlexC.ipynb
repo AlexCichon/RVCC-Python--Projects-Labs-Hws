{
 "cells": [
  {
   "cell_type": "markdown",
   "id": "f055fbfd-b11a-4725-a71c-724219fc0bc3",
   "metadata": {},
   "source": [
    "Hw 9 Problem #1 \n",
    "PsuedoCode:\n",
    "1. write the main function to initialize phonebook dictionary values, while calling a print phonebook function\n",
    "2. write function for printing out phonebook key/item with name:/number incoporated\n",
    "3. In main include method to remove/add key items to list while printing out phonebook after every iteration"
   ]
  },
  {
   "cell_type": "code",
   "execution_count": 7,
   "id": "d5bc6f40-d0ae-4244-b8ae-fbb1bac7125c",
   "metadata": {},
   "outputs": [
    {
     "name": "stdout",
     "output_type": "stream",
     "text": [
      "Original Phonebook List:\n",
      "Irene: 212-555-1111\n",
      "Maria: 973-555-4444\n",
      "Linda: 732-555-2222\n",
      "Paula: 908-555-7777\n",
      "\n",
      "Phonebook list after removing Maria:\n",
      "Irene: 212-555-1111\n",
      "Linda: 732-555-2222\n",
      "Paula: 908-555-7777\n",
      "\n",
      "Final Phonebook list:\n",
      "Irene: 212-555-1111\n",
      "Linda: 732-555-2222\n",
      "Paula: 908-555-7777\n",
      "Sammy: 312-555-6666\n"
     ]
    }
   ],
   "source": [
    "#Author: Alexei Cichon\n",
    "#Description: This program is using a pre set dictionary of a list of people/phone numbers \n",
    "#in a phonebook value dictionary where using a for loop will perform the following\n",
    "#print out key list, remove a key item, print out key list again, add new key item and print once more.\n",
    "#All of these functions for the printing/removing/adding will be perfomed in main and for printing out the phone book call the function\n",
    "\n",
    "\n",
    "def print_phonebook(phonebooklist):\n",
    "    \"\"\"Will take the phonebooklist and print out\n",
    "        each name/phone number as it gets updated in the main\"\"\"\n",
    "    for name, number in phonebooklist.items():\n",
    "        print (name+\": \" + number)\n",
    "\n",
    "\n",
    "def main():\n",
    "    \"\"\"Whole Program where it will initialize the phonebook,\n",
    "        with printing it/adding/removing the specified entry,\n",
    "        while having the list dictionary update with each print statement\"\"\"\n",
    "    #Phonebook list dictionary that is created at the start\n",
    "    phonebooklist = {\n",
    "        'Irene': '212-555-1111',\n",
    "        'Maria': '973-555-4444',\n",
    "        'Linda': '732-555-2222',\n",
    "        'Paula': '908-555-7777'\n",
    "    }\n",
    "\n",
    "    #Prints out original phonebook list\n",
    "    print(\"Original Phonebook List:\")\n",
    "    print_phonebook(phonebooklist)\n",
    "\n",
    "    #Removes a key item from from the dictiornary\n",
    "    phonebooklist.pop('Maria')\n",
    "\n",
    "    #Prints out current phonebook after removal of key item\n",
    "    print(\"\\nPhonebook list after removing Maria:\")\n",
    "    print_phonebook(phonebooklist)\n",
    "\n",
    "    #Adds new key item to current phonebook list\n",
    "    phonebooklist['Sammy'] = '312-555-6666'\n",
    "\n",
    "    #Prints out final phonebook list\n",
    "    print(\"\\nFinal Phonebook list:\")\n",
    "    print_phonebook(phonebooklist)\n",
    "\n",
    "#Will call the main function to perform\n",
    "if __name__ == \"__main__\":\n",
    "    main()\n",
    "    "
   ]
  },
  {
   "cell_type": "markdown",
   "id": "b6916aa0-0bc8-4f03-93b0-ff54744b4bcc",
   "metadata": {},
   "source": [
    "Hw9 Problem #2\n",
    "PsuedoCode:\n",
    "1. write main with dictionary of months with importatn days/events that take place during them\n",
    "2. Have the main call a function for printing out months/events\n",
    "3. write print calender event function that will read through dictionary months/events\n",
    "4. Include for loop inside function for iterating through dictionary and adding in \",\" and 'and\"\n",
    "5. will format the event string for proper printing/output"
   ]
  },
  {
   "cell_type": "code",
   "execution_count": 5,
   "id": "73662c69-10a3-491c-bd4a-b4fd1d01f0aa",
   "metadata": {},
   "outputs": [
    {
     "name": "stdout",
     "output_type": "stream",
     "text": [
      "In January there is New Year's Day, Sasha's Bday and MLK Day.\n",
      "In February there is Valentine's Day and Micheal's Bday.\n",
      "In March there is St. Patrick's Day and My Bday.\n",
      "In April there is Easter and Sister's Bday.\n",
      "In May there is Memorial Day, Star Wars Day and Mother's Bday.\n",
      "In June there is Fathers Day, Younger Sister Bday and National Donute Day.\n",
      "In July there is Independence Day, Samuel's Bday and National Vanilla Ice Cream Day.\n",
      "In August there is Back to School Day, Kate's Bday and Clean Your Floors Day.\n",
      "In September there is Labor Day and Grandma Bday.\n",
      "In October there is Halloween and Uncles Bday.\n",
      "In November there is Thanksgiving and Veterans Day.\n",
      "In December there is Christmas, New Year's Eve and Father's Bday.\n"
     ]
    }
   ],
   "source": [
    "#Author: Alexei Cichon\n",
    "#Description: This complex dictionary has a key of 12 months of the year\n",
    "#with certain holidays/birthdays/events being incorporated with them\n",
    "#the program will will print out each month with the folling events assigned to them\n",
    "\n",
    "\n",
    "def print_calendar_events(calendar_events):\n",
    "    \"\"\"This function will take the dictionary months/events and goes through\n",
    "        each and will format using the event_string for the commas/\n",
    "        and part of the events.\"\"\"\n",
    "    for month, events in calendar_events.items():\n",
    "    #If statement for jioning the events for the month for the comma/and statement for last event\n",
    "        if len(events) > 1:\n",
    "            event_string = ', '.join(events[:-1]) + ' and ' + events[-1]\n",
    "        else:\n",
    "            event_string = events[0]\n",
    "        #print statement for calendar for month/events and there strings\n",
    "        print(\"In \"+ month + \" there is \" + event_string +\".\")\n",
    "\n",
    "def main():\n",
    "    \"\"\"Will Initialize the calendar_events dictionary with the months\n",
    "        and the events, with the months representing the key and the events\n",
    "        representing the values of the them, this is also going to call the print\n",
    "        function where it will print out the calendar complex dictionary\"\"\"\n",
    "    #Creation of complex dictionary with months/assigned events\n",
    "    calendar_events = {\n",
    "        \"January\": [\"New Year's Day\", \"Greg's Bday\", \"MLK Day\"],\n",
    "        \"February\": [\"Valentine's Day\", \"Micheal's Bday\"],\n",
    "        \"March\": [\"St. Patrick's Day\", \"Alex's Bday\"],\n",
    "        \"April\": [\"Easter\", \"Sister's Bday\"],\n",
    "        \"May\": [\"Memorial Day\", \"Star Wars Day\", \"Mother's Bday\"],\n",
    "        \"June\": [\"Fathers Day\", \"Dog's Bday\", \"National Donute Day\"],\n",
    "        \"July\": [\"Independence Day\", \"Paul's Bday\", \"National Vanilla Ice Cream Day\"],\n",
    "        \"August\": [\"Back to School Day\", \"Kate's Bday\", \"National Ice Cream Sandwich Day\"],\n",
    "        \"September\": [\"Labor Day\", \"Grandma's Bday\"],\n",
    "        \"October\": [\"Halloween\", \"World Teachers Day\"],\n",
    "        \"November\": [\"Thanksgiving\", \"Veterans Day\"],\n",
    "        \"December\": [\"Christmas\", \"New Year's Eve\", \"Father's Bday\"]\n",
    "    }\n",
    "\n",
    "    #Will print out the calendar events\n",
    "    print_calendar_events(calendar_events)\n",
    "\n",
    "#Will call the main function to perform\n",
    "if __name__ == \"__main__\":\n",
    "    main()\n",
    "    \n",
    "        \n"
   ]
  },
  {
   "cell_type": "code",
   "execution_count": null,
   "id": "e6ff656a-9b47-4cd4-88e7-0acf290188c4",
   "metadata": {},
   "outputs": [],
   "source": []
  }
 ],
 "metadata": {
  "kernelspec": {
   "display_name": "Python 3 (ipykernel)",
   "language": "python",
   "name": "python3"
  },
  "language_info": {
   "codemirror_mode": {
    "name": "ipython",
    "version": 3
   },
   "file_extension": ".py",
   "mimetype": "text/x-python",
   "name": "python",
   "nbconvert_exporter": "python",
   "pygments_lexer": "ipython3",
   "version": "3.12.4"
  }
 },
 "nbformat": 4,
 "nbformat_minor": 5
}
