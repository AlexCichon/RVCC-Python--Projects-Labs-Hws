{
 "cells": [
  {
   "cell_type": "markdown",
   "id": "8049e877-ab9f-45ac-ae54-1580958e6eaa",
   "metadata": {},
   "source": [
    "Lab 10 Problem 1"
   ]
  },
  {
   "cell_type": "code",
   "execution_count": 35,
   "id": "51e5ea23-b46a-49eb-95fc-fcb122fa2565",
   "metadata": {},
   "outputs": [
    {
     "name": "stdout",
     "output_type": "stream",
     "text": [
      "COMMAND MENU\n",
      "list - List all movies\n",
      "add - Add a movie\n",
      "del - Delete a movie\n",
      "exit - exit program\n",
      "\n"
     ]
    },
    {
     "name": "stdin",
     "output_type": "stream",
     "text": [
      "Enter Command:  list\n"
     ]
    },
    {
     "name": "stdout",
     "output_type": "stream",
     "text": [
      "\n",
      "1. A Star is Born (2018)\n",
      "2. An Old Man and a Gun (2018)\n",
      "3. The Spy Who Dumped Me (2017)\n",
      "\n",
      "COMMAND MENU\n",
      "list - List all movies\n",
      "add - Add a movie\n",
      "del - Delete a movie\n",
      "exit - exit program\n",
      "\n"
     ]
    },
    {
     "name": "stdin",
     "output_type": "stream",
     "text": [
      "Enter Command:  add\n",
      "Movie Name:  My little Pony\n",
      "Movie Year:  2006\n"
     ]
    },
    {
     "name": "stdout",
     "output_type": "stream",
     "text": [
      "My little Pony was added.\n",
      "\n",
      "COMMAND MENU\n",
      "list - List all movies\n",
      "add - Add a movie\n",
      "del - Delete a movie\n",
      "exit - exit program\n",
      "\n"
     ]
    },
    {
     "name": "stdin",
     "output_type": "stream",
     "text": [
      "Enter Command:  list\n"
     ]
    },
    {
     "name": "stdout",
     "output_type": "stream",
     "text": [
      "\n",
      "1. A Star is Born (2018)\n",
      "2. An Old Man and a Gun (2018)\n",
      "3. The Spy Who Dumped Me (2017)\n",
      "4. My little Pony (2006)\n",
      "\n",
      "COMMAND MENU\n",
      "list - List all movies\n",
      "add - Add a movie\n",
      "del - Delete a movie\n",
      "exit - exit program\n",
      "\n"
     ]
    },
    {
     "name": "stdin",
     "output_type": "stream",
     "text": [
      "Enter Command:  dellet\n"
     ]
    },
    {
     "name": "stdout",
     "output_type": "stream",
     "text": [
      "Not a valid command.  Please try again.\n",
      "\n"
     ]
    },
    {
     "name": "stdin",
     "output_type": "stream",
     "text": [
      "Enter Command:  del\n",
      "Movie number:  5\n"
     ]
    },
    {
     "name": "stdout",
     "output_type": "stream",
     "text": [
      "Invalid movie number.\n",
      "\n",
      "COMMAND MENU\n",
      "list - List all movies\n",
      "add - Add a movie\n",
      "del - Delete a movie\n",
      "exit - exit program\n",
      "\n"
     ]
    },
    {
     "name": "stdin",
     "output_type": "stream",
     "text": [
      "Enter Command:  del\n",
      "Movie number:  4\n"
     ]
    },
    {
     "name": "stdout",
     "output_type": "stream",
     "text": [
      "My little Pony was deleted.\n",
      "\n",
      "COMMAND MENU\n",
      "list - List all movies\n",
      "add - Add a movie\n",
      "del - Delete a movie\n",
      "exit - exit program\n",
      "\n"
     ]
    },
    {
     "name": "stdin",
     "output_type": "stream",
     "text": [
      "Enter Command:  list\n"
     ]
    },
    {
     "name": "stdout",
     "output_type": "stream",
     "text": [
      "\n",
      "1. A Star is Born (2018)\n",
      "2. An Old Man and a Gun (2018)\n",
      "3. The Spy Who Dumped Me (2017)\n",
      "\n",
      "COMMAND MENU\n",
      "list - List all movies\n",
      "add - Add a movie\n",
      "del - Delete a movie\n",
      "exit - exit program\n",
      "\n"
     ]
    },
    {
     "name": "stdin",
     "output_type": "stream",
     "text": [
      "Enter Command:  exit\n"
     ]
    },
    {
     "name": "stdout",
     "output_type": "stream",
     "text": [
      "You'll be back!\n"
     ]
    }
   ],
   "source": [
    "# Author: Alexei Cichon\n",
    "# Purpose: This program allows users to manage a list of movies, represented as objects containing \n",
    "# the movie name and release year. Users can also add or remove movies from the list. With the Movie class \n",
    "# utilizing getters and setters to handle the movie data.\n",
    "\n",
    "class Movie:\n",
    "    \"\"\"\n",
    "    Movie class that store the name and release year of a movie object\n",
    "    \"\"\"\n",
    "    def __init__(self, name, year):\n",
    "        self.__name = name\n",
    "        self.__year = year\n",
    "\n",
    "    @property\n",
    "    def name(self):\n",
    "        \"\"\"\n",
    "        gets the movie name\n",
    "        \"\"\"\n",
    "        return self.__name\n",
    "\n",
    "    @name.setter\n",
    "    def name(self, name):\n",
    "        \"\"\"\n",
    "        sets the movie name\n",
    "        \"\"\"\n",
    "        self.__name = name\n",
    "\n",
    "    @property\n",
    "    def year(self):\n",
    "        \"\"\"\n",
    "        gets the movie year\n",
    "        \"\"\"\n",
    "        return self.__year\n",
    "\n",
    "    @year.setter\n",
    "    def year(self, year):\n",
    "        \"\"\"\n",
    "        sets the movie year\n",
    "        \"\"\"\n",
    "        self.__year = year\n",
    "    \n",
    "    def getStr(self):\n",
    "        \"\"\"\n",
    "        Is returning the movie object as a string for the name/year of the movie\n",
    "        with ( ) between the movie's year to show as: movie (year)\n",
    "        \"\"\"\n",
    "        return  self.__name + \" (\" + str(self.__year) + \")\"\n",
    "\n",
    "def display_menu():\n",
    "    \"\"\"\n",
    "    Menu for the user of which commands they can use\n",
    "    \"\"\"\n",
    "    print(\"COMMAND MENU\")\n",
    "    print(\"list - List all movies\")\n",
    "    print(\"add - Add a movie\")\n",
    "    print(\"del - Delete a movie\")\n",
    "    print(\"exit - exit program\")\n",
    "    print()\n",
    "    \n",
    "def list(movie_list):\n",
    "    \"\"\"\n",
    "    Will print out list of existing movies,\n",
    "    by order they were added in the list, with a\n",
    "    number/\".\" for seperation of the string movie\n",
    "    \"\"\"\n",
    "    if len(movie_list) == 0:\n",
    "        print(\"There are no movies in the list.\\n\")\n",
    "    else:\n",
    "        i = 1\n",
    "        print()\n",
    "        for movie in movie_list:\n",
    "            print(str(i) + \". \" + movie.getStr()) \n",
    "            i += 1\n",
    "        \n",
    "        print()\n",
    "    \n",
    "def add(movie_list):\n",
    "    \"\"\"\n",
    "    Will prompt the user for a movie which\n",
    "    they can add. They enter the name\n",
    "    of the movie, along with the year to add it\n",
    "    than appends it to the list creating a movie object\n",
    "    \"\"\"\n",
    "    name = input(\"Movie Name: \")\n",
    "    year = int(input(\"Movie Year: \"))\n",
    "    movie = Movie(name, year)\n",
    "    movie_list.append(movie)\n",
    "    print(movie.name + \" was added.\\n\")\n",
    "    \n",
    "def delete(movie_list):\n",
    "    \"\"\"\n",
    "    Will prompt the user for a movie they would\n",
    "    like to delete. They must enter a valid movie number\n",
    "    they wish to delete. If input is not in the list\n",
    "    than it display's an error. If valid, deletes it from\n",
    "    the list and prints out which movie object was deleted\n",
    "    \"\"\"\n",
    "    number = int(input(\"Movie number: \"))\n",
    "    if number < 1 or number > len(movie_list):\n",
    "        print(\"Invalid movie number.\\n\")\n",
    "    else:\n",
    "        movie = movie_list.pop(number-1)\n",
    "        print(movie.name + \" was deleted.\\n\")\n",
    "              \n",
    "def main():\n",
    "    \"\"\"\n",
    "    Creates a list of movie objects,and can call on functions for command menu \n",
    "    commands from user's input, from either viewing the list,\n",
    "    adding a movie/year into the list, deleting a movie object from\n",
    "    the list and lastly can exit the loop/program.\n",
    "    \"\"\"\n",
    "    movie_list = [Movie(\"A Star is Born\", 2018),\n",
    "                  Movie(\"An Old Man and a Gun\", 2018),\n",
    "                  Movie(\"The Spy Who Dumped Me\", 2017)]\n",
    "              \n",
    "    display_menu()\n",
    "    command = input(\"Enter Command: \")\n",
    "        \n",
    "    while (command.lower() != \"exit\"):\n",
    "        \n",
    "        if command.lower() == \"list\":\n",
    "            list(movie_list)\n",
    "            display_menu()\n",
    "        elif command.lower() == \"add\":\n",
    "            add(movie_list)\n",
    "            display_menu()\n",
    "        elif command.lower() == \"del\":\n",
    "            delete(movie_list)\n",
    "            display_menu()\n",
    "        else:\n",
    "            print(\"Not a valid command.  Please try again.\\n\")\n",
    "\n",
    "        command = input(\"Enter Command: \")\n",
    "         \n",
    "    print(\"You'll be back!\")     \n",
    "        \n",
    "if __name__ == \"__main__\":\n",
    "    main()"
   ]
  },
  {
   "cell_type": "code",
   "execution_count": null,
   "id": "cb63bcbf-db4d-403d-9ec4-9356de439afb",
   "metadata": {},
   "outputs": [],
   "source": []
  }
 ],
 "metadata": {
  "kernelspec": {
   "display_name": "Python 3 (ipykernel)",
   "language": "python",
   "name": "python3"
  },
  "language_info": {
   "codemirror_mode": {
    "name": "ipython",
    "version": 3
   },
   "file_extension": ".py",
   "mimetype": "text/x-python",
   "name": "python",
   "nbconvert_exporter": "python",
   "pygments_lexer": "ipython3",
   "version": "3.12.4"
  }
 },
 "nbformat": 4,
 "nbformat_minor": 5
}
