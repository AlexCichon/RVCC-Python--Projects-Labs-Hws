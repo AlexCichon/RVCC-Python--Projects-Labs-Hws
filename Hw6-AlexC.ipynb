{
 "cells": [
  {
   "cell_type": "code",
   "execution_count": null,
   "id": "6b44ed1f-21f9-4f47-8055-86c47cb4f18f",
   "metadata": {},
   "outputs": [
    {
     "name": "stdout",
     "output_type": "stream",
     "text": [
      "COMMAND MENU\n",
      "list - List all movies\n",
      "add - Add a movie\n",
      "del - Delete a movie\n",
      "exit - exit program\n"
     ]
    }
   ],
   "source": [
    "#HW6- Purpose: Purpose of this code is to have a command menu for adding a movie\n",
    "#with the price column and year column included in the code\n",
    "# Author: Alexei Cichon\n",
    "\n",
    "#Command menu for user to use\n",
    "def display_menu():\n",
    "    print(\"COMMAND MENU\")\n",
    "    print(\"list - List all movies\")\n",
    "    print(\"add - Add a movie\")\n",
    "    print(\"del - Delete a movie\")\n",
    "    print(\"exit - exit program\")\n",
    "\n",
    "#Movie list where it will show the movie list/name/price/year\n",
    "def list(movie_list):\n",
    "    i = 1\n",
    "    print(\"\\n MOVIE NAME   PRICE   YEAR\")\n",
    "    for row in movie_list:\n",
    "        movie_name = row[0]\n",
    "        movie_price = row[1]\n",
    "        movie_year = row[2]\n",
    "    print(' ' + str(i) + '\\t' + movie_name + '\\t ' + movie_price + '\\t ' + movie_year)\n",
    "    i += 1\n",
    "        \n",
    "    print()\n",
    " #Function for adding movie to list   \n",
    "def add(movie_list):\n",
    "    movie = input(\"Movie Name: \")\n",
    "    price = input(\"Enter the ticket price: \")\n",
    "    year = input(\"Enter the release year: \")\n",
    "    movie_list.append([movie,price,year])\n",
    "    print(movie + \" was added to the movie list.\\n\")\n",
    "#Function for removing movie from list \n",
    "def delete(movie_list):\n",
    "    number = int(input(\"Movie number: \"))\n",
    "    if number < 1 or number > len(movie_list):\n",
    "        print(\"Invalid movie number.\\n\")\n",
    "    else:\n",
    "        movie = movie_list.pop(number-1)\n",
    "        print(movie[0] + \" was deleted.\\n\")\n",
    "#Main where everything will be called/all functions will be called\n",
    "#from the main\n",
    "def main():\n",
    "    movie_list =  [[\"A Star is Born\", \"10.00\", \"2015\"],\n",
    "                   [\"An Old Man and a Gun\", \"8.00\", \"2020\"],\n",
    "                   [\"X-Men\", \"7.88\", \"2023\"]]\n",
    "              \n",
    "    display_menu()\n",
    "    command = input(\"Enter Command: \")\n",
    "#While command for users Entered Command for there inputs    \n",
    "    while (command.lower() != \"exit\"):\n",
    "        \n",
    "        if command.lower() == \"list\":\n",
    "            list(movie_list)\n",
    "            display_menu()\n",
    "        elif command.lower() == \"add\":\n",
    "            add(movie_list)\n",
    "            display_menu()\n",
    "        elif command.lower() == \"del\":\n",
    "            delete(movie_list)\n",
    "            display_menu()\n",
    "        else:\n",
    "            print(\"Not a valid command.  Please try again.\\n\")\n",
    "            \n",
    "        command = input(\"Enter Command: \")\n",
    "               \n",
    "    print(\"You'll be back!\")     \n",
    "        \n",
    "if __name__ == \"__main__\":\n",
    "    main()\n",
    "  \n",
    "        "
   ]
  },
  {
   "cell_type": "code",
   "execution_count": null,
   "id": "2ed026a5-9af9-45ac-b16e-a0c1b64881fc",
   "metadata": {},
   "outputs": [],
   "source": []
  }
 ],
 "metadata": {
  "kernelspec": {
   "display_name": "Python 3 (ipykernel)",
   "language": "python",
   "name": "python3"
  },
  "language_info": {
   "codemirror_mode": {
    "name": "ipython",
    "version": 3
   },
   "file_extension": ".py",
   "mimetype": "text/x-python",
   "name": "python",
   "nbconvert_exporter": "python",
   "pygments_lexer": "ipython3",
   "version": "3.12.4"
  }
 },
 "nbformat": 4,
 "nbformat_minor": 5
}
