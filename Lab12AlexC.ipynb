{
 "cells": [
  {
   "cell_type": "code",
   "execution_count": 161,
   "id": "f98e0dc8-1b74-4858-acf0-8e99f5e84c78",
   "metadata": {},
   "outputs": [
    {
     "name": "stdout",
     "output_type": "stream",
     "text": [
      "Array elements: [5, 1, 1, 1, 6]\n",
      "Result sum of the array: 14\n"
     ]
    }
   ],
   "source": [
    "import random\n",
    "\n",
    "def rangeSum(start, end, myList):\n",
    "    if start == end:\n",
    "        return myList[end]\n",
    "    else:\n",
    "        return myList[start] + rangeSum(start + 1, end, myList)\n",
    "\n",
    "\n",
    "def main():\n",
    "    \"\"\"\n",
    "    Main function, will make the array size of elements using random(randint) of a size of 20-50 elements,\n",
    "    than will assign those elements in the array random integers from ranges of 1-10. Finally adding up\n",
    "    all the elements in the array for a final total Sum of the array.\n",
    "    \"\"\"\n",
    "    myList = []\n",
    "    myList_size = 5\n",
    "    for i in range(myList_size):\n",
    "        myList.append(random.randint(1, 10))\n",
    "    result = rangeSum(0, len(myList) - 1, myList)\n",
    "    print(\"Array elements: \" + str(myList))\n",
    "    print(\"Result sum of the array: \" + str(result))\n",
    "\n",
    "if __name__==\"__main__\":\n",
    "    main()\n",
    "        "
   ]
  },
  {
   "cell_type": "code",
   "execution_count": null,
   "id": "addb04ea-2ec0-4046-9c54-6eb97f500572",
   "metadata": {},
   "outputs": [],
   "source": []
  }
 ],
 "metadata": {
  "kernelspec": {
   "display_name": "Python 3 (ipykernel)",
   "language": "python",
   "name": "python3"
  },
  "language_info": {
   "codemirror_mode": {
    "name": "ipython",
    "version": 3
   },
   "file_extension": ".py",
   "mimetype": "text/x-python",
   "name": "python",
   "nbconvert_exporter": "python",
   "pygments_lexer": "ipython3",
   "version": "3.12.4"
  }
 },
 "nbformat": 4,
 "nbformat_minor": 5
}
