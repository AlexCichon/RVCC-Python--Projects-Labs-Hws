{
 "cells": [
  {
   "cell_type": "code",
   "execution_count": 50,
   "id": "d612f1d3-1684-4c88-90f6-07137d55a11f",
   "metadata": {},
   "outputs": [
    {
     "ename": "SyntaxError",
     "evalue": "invalid syntax. Perhaps you forgot a comma? (3937264018.py, line 42)",
     "output_type": "error",
     "traceback": [
      "\u001b[1;36m  Cell \u001b[1;32mIn[50], line 42\u001b[1;36m\u001b[0m\n\u001b[1;33m    contact_list = [[\"Linda Yang\", \"lindayang@gmail.com\", 908 8232],\u001b[0m\n\u001b[1;37m                                                          ^\u001b[0m\n\u001b[1;31mSyntaxError\u001b[0m\u001b[1;31m:\u001b[0m invalid syntax. Perhaps you forgot a comma?\n"
     ]
    }
   ],
   "source": [
    "print(\"Welcome to Contact Manager!\\n\")\n",
    "\n",
    "def display_menu():\n",
    "    print(\"COMMAND MENU\")\n",
    "    print(\"list - Display all contacts\")\n",
    "    print(\"add - Add a contact\")\n",
    "    print(\"view - View a contact\")\n",
    "    print(\"del - Delete a contact\")\n",
    "    print(\"exit - Exit program\")\n",
    "    \n",
    "def list(contact_list):\n",
    "    if len(contact_list) == 0:\n",
    "        print(\"There are no contact in the list.\\n\")\n",
    "    else:\n",
    "        i = 1\n",
    "        print()\n",
    "        for row in contact_list:\n",
    "            print(str(i) + \". \" + row[0] + \" (\" + str(row[1]) + \")\")\n",
    "            i += 1\n",
    "        \n",
    "        print()\n",
    "    \n",
    "def add(contact_list):\n",
    "    name = input(\"Email: \")\n",
    "    email = input(\"Email: \")\n",
    "    phone = input(\"Phone: \")\n",
    "    contact = []\n",
    "    contact_list.append(name)\n",
    "    contact_list.append(email)\n",
    "    contact_list.append(phone)\n",
    "    print(contact[1] + \" was added.\\n\")\n",
    "\n",
    "def delete(contact_list):\n",
    "    number = int(input(\"Number: \"))\n",
    "    if number < 1 or number > len(contact_list):\n",
    "        print(\"Invalid number.\\n\")\n",
    "    else:\n",
    "        game = contact_list.pop(number-1)\n",
    "        print(contact[0] + \" was deleted.\\n\")\n",
    "              \n",
    "def main():\n",
    "    contact_list = [[\"Linda Yang\", \"lindayang@gmail.com\", 908 8232],\n",
    "                  [\"Michele VanBuren\", \"michele@verizon.net\", 44 20 7946],\n",
    "                    [\"Mona Lisa\", \"monalisa@gmail.com\", 5574 438 4323]]\n",
    "              \n",
    "    display_menu()\n",
    "    command = input(\"\\nCommand: \")\n",
    "        \n",
    "    while (command.lower() != \"exit\"):\n",
    "        \n",
    "        if command.lower() == \"list\":\n",
    "            list(contact_list)\n",
    "            display_menu()\n",
    "        elif command.lower() == \"view\":\n",
    "            list(contact_list)\n",
    "            display_menu()\n",
    "        elif command.lower() == \"add\":\n",
    "            add(contact_list)\n",
    "            display_menu()\n",
    "        elif command.lower() == \"del\":\n",
    "            delete(contact_list)\n",
    "            display_menu()\n",
    "        else:\n",
    "            print(\"Not a valid command.  Please try again.\\n\")\n",
    "\n",
    "        command = input(\"\\nCommand: \")\n",
    "         \n",
    "    print(\"Bye!\")     \n",
    "        \n",
    "if __name__ == \"__main__\":\n",
    "    main()\n",
    "  "
   ]
  },
  {
   "cell_type": "code",
   "execution_count": null,
   "id": "4e10fe68-7c22-4e32-b2cd-aa1d75e333ad",
   "metadata": {},
   "outputs": [],
   "source": []
  }
 ],
 "metadata": {
  "kernelspec": {
   "display_name": "Python 3 (ipykernel)",
   "language": "python",
   "name": "python3"
  },
  "language_info": {
   "codemirror_mode": {
    "name": "ipython",
    "version": 3
   },
   "file_extension": ".py",
   "mimetype": "text/x-python",
   "name": "python",
   "nbconvert_exporter": "python",
   "pygments_lexer": "ipython3",
   "version": "3.12.4"
  }
 },
 "nbformat": 4,
 "nbformat_minor": 5
}
