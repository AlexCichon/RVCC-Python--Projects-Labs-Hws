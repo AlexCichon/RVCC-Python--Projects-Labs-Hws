{
 "cells": [
  {
   "cell_type": "markdown",
   "id": "aca55937-8548-4870-94de-d8b425e97e9f",
   "metadata": {},
   "source": [
    "HW7 Problem 1"
   ]
  },
  {
   "cell_type": "code",
   "execution_count": 26,
   "id": "3fae1c8a-24f6-426b-9cbe-92cf2d6af902",
   "metadata": {},
   "outputs": [
    {
     "name": "stdout",
     "output_type": "stream",
     "text": [
      "Monthly Sales Program\n",
      "\n",
      "\n",
      "COMMAND MENU\n",
      "monthly - View monthly sales\n",
      "yearly - View yearly sales\n",
      "edit - Edit sales for a month\n",
      "exit - Exit Program\n",
      "\n"
     ]
    },
    {
     "name": "stdin",
     "output_type": "stream",
     "text": [
      "Command:  exit\n"
     ]
    },
    {
     "name": "stdout",
     "output_type": "stream",
     "text": [
      "Bye!\n"
     ]
    }
   ],
   "source": [
    "#Author: Alexei Cichon\n",
    "#Description: This code will allow the user to grab the file \"monthly_sales.csv\" and be able\n",
    "#edit the code and be able to select from different commands to view the file with its months,yearly sales, \n",
    "#and edit the sales of the months\n",
    "def main():\n",
    "# Is going to Initialize the filename/valid months\n",
    "    filename = 'monthly_sales.csv'\n",
    "    valid_months = ('Jan', 'Feb', 'Mar', 'Apr', 'May', 'Jun', 'Jul', 'Aug', 'Sep', 'Oct', 'Nov', 'Dec')\n",
    "\n",
    "    print('Monthly Sales Program\\n')\n",
    "    \n",
    "# will run an infinite loop for the command menu for the user\n",
    "    while True:\n",
    "        print('\\nCOMMAND MENU')\n",
    "        print('%s' % 'monthly - View monthly sales')\n",
    "        print('%s' % 'yearly - View yearly sales')\n",
    "        print('%s' % 'edit - Edit sales for a month')\n",
    "        print('%s' % 'exit - Exit Program\\n')\n",
    "\n",
    "        \n",
    "        command = input(\"Command: \")\n",
    "\n",
    "        if command.lower() == 'exit':\n",
    "            print('Bye!')\n",
    "            break\n",
    "        \n",
    "# Displaying monthly summary to the user\n",
    "        elif command.lower() == 'monthly':\n",
    "            with open(filename) as fp:\n",
    "                for each_line in fp:\n",
    "                    month, sales = each_line.strip().split(',')\n",
    "                    print('%5s - %10s' % (month, sales))\n",
    "        \n",
    "# Displaying yearly summary to the user\n",
    "        elif command.lower() == 'yearly':\n",
    "            with open(filename) as fp:\n",
    "                yearly_total = 0\n",
    "                for each_line in fp:\n",
    "                    month, sales = each_line.strip().split(',')\n",
    "                    yearly_total += int(sales)\n",
    "                    monthly_avg = yearly_total / 12\n",
    "\n",
    "            print('Yearly total: ', yearly_total)\n",
    "            print('Monthly average: %.2f' % monthly_avg)\n",
    "        \n",
    "# Editing a given month sale details\n",
    "        elif command.lower() == 'edit':\n",
    "            month = input('Three-letter Month: ')\n",
    "            if month.title() not in valid_months:\n",
    "                print('Invalid month abbreviation, Please enter a valid abbreviation. ')\n",
    "            else:\n",
    "                sale_amt = input('Sales Amount: ')\n",
    "                fp = open(filename)\n",
    "                file_cont = fp.readlines()\n",
    "                fp.close()\n",
    "                \n",
    "                for indx, mon_sale in enumerate(file_cont):\n",
    "                    mon_sale = mon_sale.strip()\n",
    "                    mon, sales = mon_sale.split(',')\n",
    "                    if mon == month.title():\n",
    "                        file_cont[indx] = month.title() + ',' + sale_amt + '\\n'\n",
    "\n",
    "                fp = open(filename, 'w')\n",
    "                fp.writelines(file_cont)\n",
    "                fp.close()\n",
    "\n",
    "                print('Sales Amount for %s was modified.' % month.title())\n",
    "\n",
    "\n",
    "if __name__ == '__main__':\n",
    "    main()"
   ]
  },
  {
   "cell_type": "markdown",
   "id": "be6c699d-9676-4e84-981b-f0eadc40e067",
   "metadata": {},
   "source": [
    "HW7 Problem 2"
   ]
  },
  {
   "cell_type": "code",
   "execution_count": 24,
   "id": "1bead4ff-fd9f-4288-a2c3-86e83d9a212a",
   "metadata": {},
   "outputs": [
    {
     "data": {
      "image/png": "[encoded data removed]",
      "text/plain": [
       "<Figure size 640x480 with 1 Axes>"
      ]
     },
     "metadata": {},
     "output_type": "display_data"
    }
   ],
   "source": [
    "#Author: Alexei Cichon\n",
    "#Description: This program will create a bar chart for the population of the US in the different years\n",
    "import matplotlib.pyplot as plt\n",
    "import numpy as np\n",
    "#imports for bar chart\n",
    "\n",
    "#data used for bar chart\n",
    "years = [1995, 2000, 2005, 2010, 2015]\n",
    "y_pos = np.arange(len(years))\n",
    "population = [260.28,266.82,272.04,289.48,300.22]\n",
    "\n",
    "#creating the chart\n",
    "plt.bar(y_pos, population, align ='center', alpha = 0.5, color = ['magenta','black','blue','red','yellow'])\n",
    "plt.xticks(y_pos, years)\n",
    "#title/labels for bar chart\n",
    "plt.ylabel('Population(In the millions)')\n",
    "plt.xlabel('Year')\n",
    "plt.title('Unitied States population')\n",
    "#showing the bar chart\n",
    "plt.show()"
   ]
  }
 ],
 "metadata": {
  "kernelspec": {
   "display_name": "Python 3 (ipykernel)",
   "language": "python",
   "name": "python3"
  },
  "language_info": {
   "codemirror_mode": {
    "name": "ipython",
    "version": 3
   },
   "file_extension": ".py",
   "mimetype": "text/x-python",
   "name": "python",
   "nbconvert_exporter": "python",
   "pygments_lexer": "ipython3",
   "version": "3.12.4"
  }
 },
 "nbformat": 4,
 "nbformat_minor": 5
}
