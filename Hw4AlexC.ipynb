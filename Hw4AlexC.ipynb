{
 "cells": [
  {
   "cell_type": "markdown",
   "id": "1cf91ff4-da57-49ff-9fff-5bb9f1d37ebc",
   "metadata": {},
   "source": [
    "HW4 Problem 1"
   ]
  },
  {
   "cell_type": "code",
   "execution_count": 47,
   "id": "0527a3d2-c59a-4397-a712-409195a7e2c6",
   "metadata": {},
   "outputs": [
    {
     "name": "stdin",
     "output_type": "stream",
     "text": [
      "Enter the number of rows:  5\n",
      "Enter the number of columns:  7\n"
     ]
    },
    {
     "name": "stdout",
     "output_type": "stream",
     "text": [
      "\n",
      "Here is my beatiful design:\n",
      "\n",
      "*******\n",
      "*******\n",
      "*******\n",
      "*******\n",
      "*******\n"
     ]
    }
   ],
   "source": [
    "#Author: Alexei Cichon\n",
    "#Description: This code will ask the user to enter a number of \n",
    "#rows/columns than will print the rows/columns in asterisks for the user\n",
    "\n",
    "#Asking user for # of rows/columns\n",
    "rows = int(input('Enter the number of rows: '))\n",
    "columns = int(input('Enter the number of columns: '))\n",
    "#Asterisk symbol to print for rows/columns\n",
    "symbol = '*'\n",
    "print()\n",
    "print('Here is my beatiful design:')\n",
    "print()\n",
    "#for statement will print rows/columns from the x/y range of symbol to end\n",
    "for x in range(rows):\n",
    "    for y in range(columns):\n",
    "        print(symbol, end='')\n",
    "    print()"
   ]
  },
  {
   "cell_type": "markdown",
   "id": "40101576-8ed7-43ec-99bf-8400bbb69cb6",
   "metadata": {},
   "source": [
    "HW4 Problem 2"
   ]
  },
  {
   "cell_type": "code",
   "execution_count": 106,
   "id": "cd63bf2b-0d7f-4dee-b06b-dcd5b27e0353",
   "metadata": {},
   "outputs": [
    {
     "name": "stdin",
     "output_type": "stream",
     "text": [
      "Enter the number of calories burned per minute:  3.7\n"
     ]
    },
    {
     "name": "stdout",
     "output_type": "stream",
     "text": [
      "\n",
      "The number of calories burned after 10 minutes is: 37.0\n",
      "The number of calories burned after 15 minutes is: 55.5\n",
      "The number of calories burned after 20 minutes is: 74.0\n",
      "The number of calories burned after 25 minutes is: 92.5\n",
      "The number of calories burned after 30 minutes is: 111.0\n"
     ]
    }
   ],
   "source": [
    "#Author: Alexei Cichon\n",
    "#Description: Ask the user for a enter amount of calories burned per minute\n",
    "#than will display the results starting from 10minutes and adding 5 minutes\n",
    "#to display a grand total of 30minutes of calories burned to the user\n",
    "\n",
    "#Aksing the user for number of calories burned per minute\n",
    "numberOfCalories = float(input('Enter the number of calories burned per minute: '))\n",
    "print()\n",
    "#Number of minutes to display from start range 10 to 31(30) and adding 5\n",
    "for numberOfMinutes in range (10, 31 , 5 ):\n",
    "    numberOfCaloriesBurned = (numberOfMinutes / 1) * numberOfCalories\n",
    "    print('The number of calories burned after', numberOfMinutes, \n",
    "          'minutes is:', numberOfCaloriesBurned)"
   ]
  },
  {
   "cell_type": "markdown",
   "id": "8192ec12-5d6f-4661-9ad3-b909bbc261b3",
   "metadata": {},
   "source": [
    "HW4 Problem 3"
   ]
  },
  {
   "cell_type": "code",
   "execution_count": 139,
   "id": "0f17ac0e-9ac2-4ec2-baa3-c7338e02d370",
   "metadata": {},
   "outputs": [
    {
     "name": "stdin",
     "output_type": "stream",
     "text": [
      "Enter a number : 4\n"
     ]
    },
    {
     "name": "stdout",
     "output_type": "stream",
     "text": [
      "4 is equal to: 24\n"
     ]
    }
   ],
   "source": [
    "#Author: Alexei Cichon\n",
    "#Description: This code will calculate a non-negative number\n",
    "#and display the factorial value of the number back to the user\n",
    "\n",
    "#Getting the number entered from user\n",
    "num = int(input('Enter a number :'))\n",
    "#Calculations for entered number for factorial value\n",
    "fact = 1\n",
    "for i in range (1,num+1):\n",
    "    fact = fact*i\n",
    "#if statement for when the user enteres a non-negative number\n",
    "if num < 0:\n",
    "    print('Please enter a non-negative number')\n",
    "else:\n",
    "    print(num,'is equal to:', fact)"
   ]
  },
  {
   "cell_type": "code",
   "execution_count": null,
   "id": "acb2dc67-0249-4a26-8b59-6ddb8de15e63",
   "metadata": {},
   "outputs": [],
   "source": []
  }
 ],
 "metadata": {
  "kernelspec": {
   "display_name": "Python 3 (ipykernel)",
   "language": "python",
   "name": "python3"
  },
  "language_info": {
   "codemirror_mode": {
    "name": "ipython",
    "version": 3
   },
   "file_extension": ".py",
   "mimetype": "text/x-python",
   "name": "python",
   "nbconvert_exporter": "python",
   "pygments_lexer": "ipython3",
   "version": "3.12.4"
  }
 },
 "nbformat": 4,
 "nbformat_minor": 5
}
